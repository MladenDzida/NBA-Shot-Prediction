{
 "cells": [
  {
   "cell_type": "markdown",
   "id": "a6519c9b",
   "metadata": {},
   "source": [
    "# Predikcija pogodaka u NBA-u #\n",
    "\n",
    "### Motivacija za ovakav projekt je poprilično očita, želi se poboljšati efikasnost šutera u NBA-u tako da momčadima omogući lakšu analizu i procjenu mjesta s kojeg bi u nekoj situaciji bilo najpogodnije pucati na koš ### "
   ]
  },
  {
   "cell_type": "code",
   "execution_count": 1,
   "id": "4fb836d6",
   "metadata": {},
   "outputs": [],
   "source": [
    "# import-anje potrebnih library-a\n",
    "import pandas as pd"
   ]
  },
  {
   "cell_type": "code",
   "execution_count": 25,
   "id": "83a4ba2c",
   "metadata": {},
   "outputs": [
    {
     "name": "stdout",
     "output_type": "stream",
     "text": [
      "ATRIBUTI DATASET-A: \n",
      "GAME_ID\n",
      "MATCHUP\n",
      "LOCATION\n",
      "W\n",
      "FINAL_MARGIN\n",
      "SHOT_NUMBER\n",
      "PERIOD\n",
      "GAME_CLOCK\n",
      "SHOT_CLOCK\n",
      "DRIBBLES\n",
      "TOUCH_TIME\n",
      "SHOT_DIST\n",
      "PTS_TYPE\n",
      "SHOT_RESULT\n",
      "CLOSEST_DEFENDER\n",
      "CLOSEST_DEFENDER_PLAYER_ID\n",
      "CLOSE_DEF_DIST\n",
      "FGM\n",
      "PTS\n",
      "player_name\n",
      "player_id\n",
      "\n",
      "BROJ PRIMJERA:  128069\n"
     ]
    }
   ],
   "source": [
    "pd.set_option('max_columns',None)\n",
    "shot_logs = pd.read_csv('shot_logs.csv')\n",
    "\n",
    "print(\"ATRIBUTI DATASET-A: \")\n",
    "for column in shot_logs.columns:\n",
    "    print(column)\n",
    "    \n",
    "print(\"\\nBROJ PRIMJERA: \", len(shot_logs))"
   ]
  },
  {
   "cell_type": "code",
   "execution_count": 12,
   "id": "f89475ec",
   "metadata": {},
   "outputs": [],
   "source": [
    "shot_logs = shot_logs.drop(columns=['FGM', 'PTS'])"
   ]
  },
  {
   "cell_type": "code",
   "execution_count": 13,
   "id": "f8d6cdaf",
   "metadata": {},
   "outputs": [
    {
     "name": "stdout",
     "output_type": "stream",
     "text": [
      "0          1:09\n",
      "1          0:14\n",
      "2          0:00\n",
      "3         11:47\n",
      "4         10:34\n",
      "          ...  \n",
      "128064     1:52\n",
      "128065    11:28\n",
      "128066    11:10\n",
      "128067     2:37\n",
      "128068     0:12\n",
      "Name: GAME_CLOCK, Length: 128069, dtype: object\n"
     ]
    }
   ],
   "source": [
    "print(shot_logs['GAME_CLOCK'])"
   ]
  },
  {
   "cell_type": "code",
   "execution_count": 37,
   "id": "9bda2a67",
   "metadata": {},
   "outputs": [
    {
     "name": "stdout",
     "output_type": "stream",
     "text": [
      "0          69.0\n",
      "1          14.0\n",
      "2           0.0\n",
      "3         707.0\n",
      "4         634.0\n",
      "          ...  \n",
      "128064    112.0\n",
      "128065    688.0\n",
      "128066    670.0\n",
      "128067    157.0\n",
      "128068     12.0\n",
      "Name: GAME_CLOCK, Length: 128069, dtype: float64\n"
     ]
    }
   ],
   "source": [
    "import datetime\n",
    "def get_seconds(time_string):\n",
    "    date_time = datetime.datetime.strptime(time_string, \"%M:%S\")\n",
    "    a_timedelta = date_time - datetime.datetime(1900, 1, 1)\n",
    "    seconds = a_timedelta.total_seconds()\n",
    "    return seconds\n",
    "\n",
    "shot_logs['GAME_CLOCK']=shot_logs['GAME_CLOCK'].apply(get_seconds)\n",
    "\n",
    "print(shot_logs['GAME_CLOCK'])"
   ]
  },
  {
   "cell_type": "code",
   "execution_count": null,
   "id": "f69596c0",
   "metadata": {},
   "outputs": [],
   "source": []
  }
 ],
 "metadata": {
  "kernelspec": {
   "display_name": "Python 3 (ipykernel)",
   "language": "python",
   "name": "python3"
  },
  "language_info": {
   "codemirror_mode": {
    "name": "ipython",
    "version": 3
   },
   "file_extension": ".py",
   "mimetype": "text/x-python",
   "name": "python",
   "nbconvert_exporter": "python",
   "pygments_lexer": "ipython3",
   "version": "3.8.11"
  }
 },
 "nbformat": 4,
 "nbformat_minor": 5
}
