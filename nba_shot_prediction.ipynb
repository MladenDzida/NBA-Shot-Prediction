{
 "cells": [
  {
   "cell_type": "markdown",
   "id": "a6519c9b",
   "metadata": {},
   "source": [
    "# Predikcija pogodaka u NBA-u  "
   ]
  },
  {
   "cell_type": "markdown",
   "id": "aedfb8d9",
   "metadata": {},
   "source": [
    "## Uvod i motivacija"
   ]
  },
  {
   "cell_type": "markdown",
   "id": "b26635c4",
   "metadata": {},
   "source": [
    "Ovakvim i sličnim projektima se želi poboljšati efikasnost šutera u NBA-u tako da se momčadima omogući lakša analiza i procjena mjesta s kojeg bi u nekoj situaciji bilo najpogodnije pucati na koš i time optimizirati vjerojatnosti pobjede. To se želi postići upotrebom statističke analize podataka te raznih algoritama strojnog učenja. \n",
    "\n",
    "Projekt se temelji na članku [Predicting NBA Shots](http://cs229.stanford.edu/proj2017/final-reports/5132133.pdf).\n"
   ]
  },
  {
   "cell_type": "markdown",
   "id": "939d1aef",
   "metadata": {},
   "source": [
    "Istraživanje provedeno u članku je:\n",
    " - Sekundarno istraživanje prema tipu izvora informacija jer se informacije općenito temelje na znanstvenoj literaturi i drugim dokumentima koje je sastavio drugi istraživač te jer se u članku želi sintetizirati postojeće znanje.\n",
    " - Primijenjeno istraživanje prema tipu svrhe jer se izravno koristi za primjenu u košarkaškoj industriji\n",
    " - Studija presjeka ili sinkrono istraživanje prema tipu vremena provedbe jer se promatra šuterska aktivnost u jednom trenutku\n",
    " - Mješovito istraživanje prema tipu prikupljanja podataka jer se kao izvor informacija koriste i primarni i sekundarni izvori\n",
    " - Promatračko istraživanje prema tipu stupnja manipulacije varijablama jer se odvija analiza fenomena u njegovom prirodnom    kontekstu te istraživač ne intervenira izravno, već ograničava svoje sudjelovanje na mjerenje varijabli potrebnih za istraživanje\n",
    " - Korelacijsko (correlational) istraživanje prema tipu dubine jer je svrha identificirati odnos između dvije ili više varijabli\n",
    " - Hipotetičko-deduktivno istraživanje prema tipu zaklučka jer se odvija promatranje stvarnosti kako bi postavila hipoteza, zatim pomoću dedukcije donio zaključak i konačno ga provjerili ili odbacili kroz iskustvo"
   ]
  },
  {
   "cell_type": "code",
   "execution_count": 51,
   "id": "4fb836d6",
   "metadata": {},
   "outputs": [],
   "source": [
    "# import-anje potrebnih library-a\n",
    "import pandas as pd\n",
    "import matplotlib.pyplot as plt\n",
    "import numpy as np\n",
    "import datetime\n",
    "import seaborn as sns\n",
    "from sklearn.model_selection import train_test_split\n",
    "from sklearn.linear_model import LogisticRegression\n",
    "from sklearn import metrics\n",
    "from sklearn.metrics import classification_report\n",
    "from sklearn.svm import SVC\n",
    "import tensorflow as tf\n",
    "from keras.models import Sequential\n",
    "from keras.layers import Dense"
   ]
  },
  {
   "cell_type": "markdown",
   "id": "2cdf421e",
   "metadata": {},
   "source": [
    "# Početni pregled podataka"
   ]
  },
  {
   "cell_type": "code",
   "execution_count": 2,
   "id": "83a4ba2c",
   "metadata": {},
   "outputs": [
    {
     "name": "stdout",
     "output_type": "stream",
     "text": [
      "ATRIBUTI DATASET-A: \n",
      "['GAME_ID' 'MATCHUP' 'LOCATION' 'W' 'FINAL_MARGIN' 'SHOT_NUMBER' 'PERIOD'\n",
      " 'GAME_CLOCK' 'SHOT_CLOCK' 'DRIBBLES' 'TOUCH_TIME' 'SHOT_DIST' 'PTS_TYPE'\n",
      " 'SHOT_RESULT' 'CLOSEST_DEFENDER' 'CLOSEST_DEFENDER_PLAYER_ID'\n",
      " 'CLOSE_DEF_DIST' 'FGM' 'PTS' 'player_name' 'player_id']\n",
      "BROJ PRIMJERA:  128069\n"
     ]
    }
   ],
   "source": [
    "pd.set_option('max_columns',None)\n",
    "shot_logs = pd.read_csv('shot_logs.csv')\n",
    "\n",
    "print(\"ATRIBUTI DATASET-A: \")\n",
    "print(shot_logs.columns.values)\n",
    "    \n",
    "print(\"BROJ PRIMJERA: \", len(shot_logs))\n"
   ]
  },
  {
   "cell_type": "markdown",
   "id": "7a844878",
   "metadata": {},
   "source": [
    "Pojašnjenja značajki:\n",
    " - GAME_ID - jedinstveni identifikator svake utakmice\n",
    " - MATCHUP - datum odigravanja utakmice te informacija o tome koje su ekipe igrale\n",
    " - LOCATION - informacija o tome gdje se igra(A - Away(u gostima) ili H - Home(na domaćem terenu))\n",
    " - W - informaicija o tome tko je pobjedio\n",
    " - FINAL_MARGIN - konaćna razlika u broju poena\n",
    " - SHOT_NUMBER - broj Šuta u utakmici\n",
    " - PERIOD - informacija o tome o kojoj se četvrtini radi ili o kojem se periodu produžetaka radi(1 - 4 -> broj četvrtine, 5 - 7 -> broj perioda u produžecima)\n",
    " - GAME_CLOCK - vrijeme koje je proteklo u trenutnom periodu\n",
    " - SHOT_CLOCK - sekunda u kojoj je pucan šut(sekunde se gledaju s obzirom na jedan napad - u 24 sekunde)\n",
    " - DRIBBLES - luka ukrcavanja (C = Cherbourg, Q = Queenstown, S = Southampton)\n",
    " - TOUCH_TIME - tip driblinga prije šuta\n",
    " - SHOT_DIST - udaljenost do koša\n",
    " - PTS_TYPE - broj poena koji bi se dobio kad bi se zabio šut(2 ili 3)\n",
    " - SHOT_RESULT - rezultat šuta(pogođen('made') ili nepogođen('missed'))\n",
    " - CLOSEST_DEFENDER - najbliži igrač u obrani\n",
    " - CLOSEST_DEFENDER_PLAYER_ID - jedinstveni identifikator igrača u obrani\n",
    " - CLOSE_DEF_DIST - udaljenost od igrača u obrani\n",
    " - FGM - 'field goal made' - rezultat je li pogođen šut\n",
    " - PTS - broj dobivenih poena šutom\n",
    " - player_name - ime šutera\n",
    " - player_id - jedinstveni identifikator šutera"
   ]
  },
  {
   "cell_type": "code",
   "execution_count": 3,
   "id": "2df2b365",
   "metadata": {},
   "outputs": [
    {
     "name": "stdout",
     "output_type": "stream",
     "text": [
      "<class 'pandas.core.frame.DataFrame'>\n",
      "RangeIndex: 128069 entries, 0 to 128068\n",
      "Data columns (total 21 columns):\n",
      " #   Column                      Non-Null Count   Dtype  \n",
      "---  ------                      --------------   -----  \n",
      " 0   GAME_ID                     128069 non-null  int64  \n",
      " 1   MATCHUP                     128069 non-null  object \n",
      " 2   LOCATION                    128069 non-null  object \n",
      " 3   W                           128069 non-null  object \n",
      " 4   FINAL_MARGIN                128069 non-null  int64  \n",
      " 5   SHOT_NUMBER                 128069 non-null  int64  \n",
      " 6   PERIOD                      128069 non-null  int64  \n",
      " 7   GAME_CLOCK                  128069 non-null  object \n",
      " 8   SHOT_CLOCK                  122502 non-null  float64\n",
      " 9   DRIBBLES                    128069 non-null  int64  \n",
      " 10  TOUCH_TIME                  128069 non-null  float64\n",
      " 11  SHOT_DIST                   128069 non-null  float64\n",
      " 12  PTS_TYPE                    128069 non-null  int64  \n",
      " 13  SHOT_RESULT                 128069 non-null  object \n",
      " 14  CLOSEST_DEFENDER            128069 non-null  object \n",
      " 15  CLOSEST_DEFENDER_PLAYER_ID  128069 non-null  int64  \n",
      " 16  CLOSE_DEF_DIST              128069 non-null  float64\n",
      " 17  FGM                         128069 non-null  int64  \n",
      " 18  PTS                         128069 non-null  int64  \n",
      " 19  player_name                 128069 non-null  object \n",
      " 20  player_id                   128069 non-null  int64  \n",
      "dtypes: float64(4), int64(10), object(7)\n",
      "memory usage: 20.5+ MB\n"
     ]
    }
   ],
   "source": [
    "shot_logs.info()"
   ]
  },
  {
   "cell_type": "markdown",
   "id": "520a0da9",
   "metadata": {},
   "source": [
    "### Jedinstvene vrijednosti značajki"
   ]
  },
  {
   "cell_type": "code",
   "execution_count": 4,
   "id": "3085a26a",
   "metadata": {},
   "outputs": [
    {
     "data": {
      "text/plain": [
       "GAME_ID                        904\n",
       "MATCHUP                       1808\n",
       "LOCATION                         2\n",
       "W                                2\n",
       "FINAL_MARGIN                    88\n",
       "SHOT_NUMBER                     38\n",
       "PERIOD                           7\n",
       "GAME_CLOCK                     719\n",
       "SHOT_CLOCK                     241\n",
       "DRIBBLES                        33\n",
       "TOUCH_TIME                     313\n",
       "SHOT_DIST                      448\n",
       "PTS_TYPE                         2\n",
       "SHOT_RESULT                      2\n",
       "CLOSEST_DEFENDER               473\n",
       "CLOSEST_DEFENDER_PLAYER_ID     474\n",
       "CLOSE_DEF_DIST                 299\n",
       "FGM                              2\n",
       "PTS                              3\n",
       "player_name                    281\n",
       "player_id                      281\n",
       "dtype: int64"
      ]
     },
     "execution_count": 4,
     "metadata": {},
     "output_type": "execute_result"
    }
   ],
   "source": [
    "shot_logs.nunique()"
   ]
  },
  {
   "cell_type": "code",
   "execution_count": 5,
   "id": "038a6c3e",
   "metadata": {},
   "outputs": [
    {
     "data": {
      "text/html": [
       "<div>\n",
       "<style scoped>\n",
       "    .dataframe tbody tr th:only-of-type {\n",
       "        vertical-align: middle;\n",
       "    }\n",
       "\n",
       "    .dataframe tbody tr th {\n",
       "        vertical-align: top;\n",
       "    }\n",
       "\n",
       "    .dataframe thead th {\n",
       "        text-align: right;\n",
       "    }\n",
       "</style>\n",
       "<table border=\"1\" class=\"dataframe\">\n",
       "  <thead>\n",
       "    <tr style=\"text-align: right;\">\n",
       "      <th></th>\n",
       "      <th>GAME_ID</th>\n",
       "      <th>MATCHUP</th>\n",
       "      <th>LOCATION</th>\n",
       "      <th>W</th>\n",
       "      <th>FINAL_MARGIN</th>\n",
       "      <th>SHOT_NUMBER</th>\n",
       "      <th>PERIOD</th>\n",
       "      <th>GAME_CLOCK</th>\n",
       "      <th>SHOT_CLOCK</th>\n",
       "      <th>DRIBBLES</th>\n",
       "      <th>TOUCH_TIME</th>\n",
       "      <th>SHOT_DIST</th>\n",
       "      <th>PTS_TYPE</th>\n",
       "      <th>SHOT_RESULT</th>\n",
       "      <th>CLOSEST_DEFENDER</th>\n",
       "      <th>CLOSEST_DEFENDER_PLAYER_ID</th>\n",
       "      <th>CLOSE_DEF_DIST</th>\n",
       "      <th>FGM</th>\n",
       "      <th>PTS</th>\n",
       "      <th>player_name</th>\n",
       "      <th>player_id</th>\n",
       "    </tr>\n",
       "  </thead>\n",
       "  <tbody>\n",
       "    <tr>\n",
       "      <th>0</th>\n",
       "      <td>21400899</td>\n",
       "      <td>MAR 04, 2015 - CHA @ BKN</td>\n",
       "      <td>A</td>\n",
       "      <td>W</td>\n",
       "      <td>24</td>\n",
       "      <td>1</td>\n",
       "      <td>1</td>\n",
       "      <td>1:09</td>\n",
       "      <td>10.8</td>\n",
       "      <td>2</td>\n",
       "      <td>1.9</td>\n",
       "      <td>7.7</td>\n",
       "      <td>2</td>\n",
       "      <td>made</td>\n",
       "      <td>Anderson, Alan</td>\n",
       "      <td>101187</td>\n",
       "      <td>1.3</td>\n",
       "      <td>1</td>\n",
       "      <td>2</td>\n",
       "      <td>brian roberts</td>\n",
       "      <td>203148</td>\n",
       "    </tr>\n",
       "    <tr>\n",
       "      <th>1</th>\n",
       "      <td>21400899</td>\n",
       "      <td>MAR 04, 2015 - CHA @ BKN</td>\n",
       "      <td>A</td>\n",
       "      <td>W</td>\n",
       "      <td>24</td>\n",
       "      <td>2</td>\n",
       "      <td>1</td>\n",
       "      <td>0:14</td>\n",
       "      <td>3.4</td>\n",
       "      <td>0</td>\n",
       "      <td>0.8</td>\n",
       "      <td>28.2</td>\n",
       "      <td>3</td>\n",
       "      <td>missed</td>\n",
       "      <td>Bogdanovic, Bojan</td>\n",
       "      <td>202711</td>\n",
       "      <td>6.1</td>\n",
       "      <td>0</td>\n",
       "      <td>0</td>\n",
       "      <td>brian roberts</td>\n",
       "      <td>203148</td>\n",
       "    </tr>\n",
       "    <tr>\n",
       "      <th>2</th>\n",
       "      <td>21400899</td>\n",
       "      <td>MAR 04, 2015 - CHA @ BKN</td>\n",
       "      <td>A</td>\n",
       "      <td>W</td>\n",
       "      <td>24</td>\n",
       "      <td>3</td>\n",
       "      <td>1</td>\n",
       "      <td>0:00</td>\n",
       "      <td>NaN</td>\n",
       "      <td>3</td>\n",
       "      <td>2.7</td>\n",
       "      <td>10.1</td>\n",
       "      <td>2</td>\n",
       "      <td>missed</td>\n",
       "      <td>Bogdanovic, Bojan</td>\n",
       "      <td>202711</td>\n",
       "      <td>0.9</td>\n",
       "      <td>0</td>\n",
       "      <td>0</td>\n",
       "      <td>brian roberts</td>\n",
       "      <td>203148</td>\n",
       "    </tr>\n",
       "    <tr>\n",
       "      <th>3</th>\n",
       "      <td>21400899</td>\n",
       "      <td>MAR 04, 2015 - CHA @ BKN</td>\n",
       "      <td>A</td>\n",
       "      <td>W</td>\n",
       "      <td>24</td>\n",
       "      <td>4</td>\n",
       "      <td>2</td>\n",
       "      <td>11:47</td>\n",
       "      <td>10.3</td>\n",
       "      <td>2</td>\n",
       "      <td>1.9</td>\n",
       "      <td>17.2</td>\n",
       "      <td>2</td>\n",
       "      <td>missed</td>\n",
       "      <td>Brown, Markel</td>\n",
       "      <td>203900</td>\n",
       "      <td>3.4</td>\n",
       "      <td>0</td>\n",
       "      <td>0</td>\n",
       "      <td>brian roberts</td>\n",
       "      <td>203148</td>\n",
       "    </tr>\n",
       "    <tr>\n",
       "      <th>4</th>\n",
       "      <td>21400899</td>\n",
       "      <td>MAR 04, 2015 - CHA @ BKN</td>\n",
       "      <td>A</td>\n",
       "      <td>W</td>\n",
       "      <td>24</td>\n",
       "      <td>5</td>\n",
       "      <td>2</td>\n",
       "      <td>10:34</td>\n",
       "      <td>10.9</td>\n",
       "      <td>2</td>\n",
       "      <td>2.7</td>\n",
       "      <td>3.7</td>\n",
       "      <td>2</td>\n",
       "      <td>missed</td>\n",
       "      <td>Young, Thaddeus</td>\n",
       "      <td>201152</td>\n",
       "      <td>1.1</td>\n",
       "      <td>0</td>\n",
       "      <td>0</td>\n",
       "      <td>brian roberts</td>\n",
       "      <td>203148</td>\n",
       "    </tr>\n",
       "  </tbody>\n",
       "</table>\n",
       "</div>"
      ],
      "text/plain": [
       "    GAME_ID                   MATCHUP LOCATION  W  FINAL_MARGIN  SHOT_NUMBER  \\\n",
       "0  21400899  MAR 04, 2015 - CHA @ BKN        A  W            24            1   \n",
       "1  21400899  MAR 04, 2015 - CHA @ BKN        A  W            24            2   \n",
       "2  21400899  MAR 04, 2015 - CHA @ BKN        A  W            24            3   \n",
       "3  21400899  MAR 04, 2015 - CHA @ BKN        A  W            24            4   \n",
       "4  21400899  MAR 04, 2015 - CHA @ BKN        A  W            24            5   \n",
       "\n",
       "   PERIOD GAME_CLOCK  SHOT_CLOCK  DRIBBLES  TOUCH_TIME  SHOT_DIST  PTS_TYPE  \\\n",
       "0       1       1:09        10.8         2         1.9        7.7         2   \n",
       "1       1       0:14         3.4         0         0.8       28.2         3   \n",
       "2       1       0:00         NaN         3         2.7       10.1         2   \n",
       "3       2      11:47        10.3         2         1.9       17.2         2   \n",
       "4       2      10:34        10.9         2         2.7        3.7         2   \n",
       "\n",
       "  SHOT_RESULT   CLOSEST_DEFENDER  CLOSEST_DEFENDER_PLAYER_ID  CLOSE_DEF_DIST  \\\n",
       "0        made     Anderson, Alan                      101187             1.3   \n",
       "1      missed  Bogdanovic, Bojan                      202711             6.1   \n",
       "2      missed  Bogdanovic, Bojan                      202711             0.9   \n",
       "3      missed      Brown, Markel                      203900             3.4   \n",
       "4      missed    Young, Thaddeus                      201152             1.1   \n",
       "\n",
       "   FGM  PTS    player_name  player_id  \n",
       "0    1    2  brian roberts     203148  \n",
       "1    0    0  brian roberts     203148  \n",
       "2    0    0  brian roberts     203148  \n",
       "3    0    0  brian roberts     203148  \n",
       "4    0    0  brian roberts     203148  "
      ]
     },
     "execution_count": 5,
     "metadata": {},
     "output_type": "execute_result"
    }
   ],
   "source": [
    "shot_logs.head()"
   ]
  },
  {
   "cell_type": "markdown",
   "id": "9ee34020",
   "metadata": {},
   "source": [
    "### Nedostajući podaci"
   ]
  },
  {
   "cell_type": "code",
   "execution_count": 6,
   "id": "53546f23",
   "metadata": {},
   "outputs": [
    {
     "data": {
      "text/plain": [
       "GAME_ID                          0\n",
       "MATCHUP                          0\n",
       "LOCATION                         0\n",
       "W                                0\n",
       "FINAL_MARGIN                     0\n",
       "SHOT_NUMBER                      0\n",
       "PERIOD                           0\n",
       "GAME_CLOCK                       0\n",
       "SHOT_CLOCK                    5567\n",
       "DRIBBLES                         0\n",
       "TOUCH_TIME                       0\n",
       "SHOT_DIST                        0\n",
       "PTS_TYPE                         0\n",
       "SHOT_RESULT                      0\n",
       "CLOSEST_DEFENDER                 0\n",
       "CLOSEST_DEFENDER_PLAYER_ID       0\n",
       "CLOSE_DEF_DIST                   0\n",
       "FGM                              0\n",
       "PTS                              0\n",
       "player_name                      0\n",
       "player_id                        0\n",
       "dtype: int64"
      ]
     },
     "execution_count": 6,
     "metadata": {},
     "output_type": "execute_result"
    }
   ],
   "source": [
    "shot_logs.isna().sum()"
   ]
  },
  {
   "cell_type": "markdown",
   "id": "85038eb1",
   "metadata": {},
   "source": [
    "samo atribut SHOT_CLOCK ima nedostajuće vrijednosti, on nam može biti koristan jer govori koliko je šutero još ostalo vremena za taj napad. Ideja je zasad da se izbace samo retci koji imaju Nan vrijednost."
   ]
  },
  {
   "cell_type": "code",
   "execution_count": 7,
   "id": "d5f9c9ec",
   "metadata": {},
   "outputs": [],
   "source": [
    "shot_logs = shot_logs.loc[shot_logs.SHOT_CLOCK.notnull(), :]"
   ]
  },
  {
   "cell_type": "markdown",
   "id": "d1331db9",
   "metadata": {},
   "source": [
    "### Stršeći podatci"
   ]
  },
  {
   "cell_type": "code",
   "execution_count": 8,
   "id": "f5e8ee01",
   "metadata": {},
   "outputs": [
    {
     "data": {
      "text/html": [
       "<div>\n",
       "<style scoped>\n",
       "    .dataframe tbody tr th:only-of-type {\n",
       "        vertical-align: middle;\n",
       "    }\n",
       "\n",
       "    .dataframe tbody tr th {\n",
       "        vertical-align: top;\n",
       "    }\n",
       "\n",
       "    .dataframe thead th {\n",
       "        text-align: right;\n",
       "    }\n",
       "</style>\n",
       "<table border=\"1\" class=\"dataframe\">\n",
       "  <thead>\n",
       "    <tr style=\"text-align: right;\">\n",
       "      <th></th>\n",
       "      <th>GAME_ID</th>\n",
       "      <th>MATCHUP</th>\n",
       "      <th>LOCATION</th>\n",
       "      <th>W</th>\n",
       "      <th>FINAL_MARGIN</th>\n",
       "      <th>SHOT_NUMBER</th>\n",
       "      <th>PERIOD</th>\n",
       "      <th>GAME_CLOCK</th>\n",
       "      <th>SHOT_CLOCK</th>\n",
       "      <th>DRIBBLES</th>\n",
       "      <th>TOUCH_TIME</th>\n",
       "      <th>SHOT_DIST</th>\n",
       "      <th>PTS_TYPE</th>\n",
       "      <th>SHOT_RESULT</th>\n",
       "      <th>CLOSEST_DEFENDER</th>\n",
       "      <th>CLOSEST_DEFENDER_PLAYER_ID</th>\n",
       "      <th>CLOSE_DEF_DIST</th>\n",
       "      <th>FGM</th>\n",
       "      <th>PTS</th>\n",
       "      <th>player_name</th>\n",
       "      <th>player_id</th>\n",
       "    </tr>\n",
       "  </thead>\n",
       "  <tbody>\n",
       "    <tr>\n",
       "      <th>count</th>\n",
       "      <td>1.225020e+05</td>\n",
       "      <td>122502</td>\n",
       "      <td>122502</td>\n",
       "      <td>122502</td>\n",
       "      <td>122502.000000</td>\n",
       "      <td>122502.000000</td>\n",
       "      <td>122502.000000</td>\n",
       "      <td>122502</td>\n",
       "      <td>122502.000000</td>\n",
       "      <td>122502.000000</td>\n",
       "      <td>122502.000000</td>\n",
       "      <td>122502.000000</td>\n",
       "      <td>122502.000000</td>\n",
       "      <td>122502</td>\n",
       "      <td>122502</td>\n",
       "      <td>122502.000000</td>\n",
       "      <td>122502.000000</td>\n",
       "      <td>122502.000000</td>\n",
       "      <td>122502.000000</td>\n",
       "      <td>122502</td>\n",
       "      <td>122502.000000</td>\n",
       "    </tr>\n",
       "    <tr>\n",
       "      <th>unique</th>\n",
       "      <td>NaN</td>\n",
       "      <td>1792</td>\n",
       "      <td>2</td>\n",
       "      <td>2</td>\n",
       "      <td>NaN</td>\n",
       "      <td>NaN</td>\n",
       "      <td>NaN</td>\n",
       "      <td>718</td>\n",
       "      <td>NaN</td>\n",
       "      <td>NaN</td>\n",
       "      <td>NaN</td>\n",
       "      <td>NaN</td>\n",
       "      <td>NaN</td>\n",
       "      <td>2</td>\n",
       "      <td>473</td>\n",
       "      <td>NaN</td>\n",
       "      <td>NaN</td>\n",
       "      <td>NaN</td>\n",
       "      <td>NaN</td>\n",
       "      <td>281</td>\n",
       "      <td>NaN</td>\n",
       "    </tr>\n",
       "    <tr>\n",
       "      <th>top</th>\n",
       "      <td>NaN</td>\n",
       "      <td>FEB 07, 2015 - DAL vs. POR</td>\n",
       "      <td>A</td>\n",
       "      <td>W</td>\n",
       "      <td>NaN</td>\n",
       "      <td>NaN</td>\n",
       "      <td>NaN</td>\n",
       "      <td>11:46</td>\n",
       "      <td>NaN</td>\n",
       "      <td>NaN</td>\n",
       "      <td>NaN</td>\n",
       "      <td>NaN</td>\n",
       "      <td>NaN</td>\n",
       "      <td>missed</td>\n",
       "      <td>Ibaka, Serge</td>\n",
       "      <td>NaN</td>\n",
       "      <td>NaN</td>\n",
       "      <td>NaN</td>\n",
       "      <td>NaN</td>\n",
       "      <td>lamarcus aldridge</td>\n",
       "      <td>NaN</td>\n",
       "    </tr>\n",
       "    <tr>\n",
       "      <th>freq</th>\n",
       "      <td>NaN</td>\n",
       "      <td>102</td>\n",
       "      <td>61315</td>\n",
       "      <td>62149</td>\n",
       "      <td>NaN</td>\n",
       "      <td>NaN</td>\n",
       "      <td>NaN</td>\n",
       "      <td>265</td>\n",
       "      <td>NaN</td>\n",
       "      <td>NaN</td>\n",
       "      <td>NaN</td>\n",
       "      <td>NaN</td>\n",
       "      <td>NaN</td>\n",
       "      <td>66622</td>\n",
       "      <td>802</td>\n",
       "      <td>NaN</td>\n",
       "      <td>NaN</td>\n",
       "      <td>NaN</td>\n",
       "      <td>NaN</td>\n",
       "      <td>1010</td>\n",
       "      <td>NaN</td>\n",
       "    </tr>\n",
       "    <tr>\n",
       "      <th>mean</th>\n",
       "      <td>2.140045e+07</td>\n",
       "      <td>NaN</td>\n",
       "      <td>NaN</td>\n",
       "      <td>NaN</td>\n",
       "      <td>0.252396</td>\n",
       "      <td>6.476164</td>\n",
       "      <td>2.471454</td>\n",
       "      <td>NaN</td>\n",
       "      <td>12.453344</td>\n",
       "      <td>1.989233</td>\n",
       "      <td>2.748202</td>\n",
       "      <td>13.443758</td>\n",
       "      <td>2.258363</td>\n",
       "      <td>NaN</td>\n",
       "      <td>NaN</td>\n",
       "      <td>159120.427977</td>\n",
       "      <td>4.121706</td>\n",
       "      <td>0.456156</td>\n",
       "      <td>1.005469</td>\n",
       "      <td>NaN</td>\n",
       "      <td>157334.912965</td>\n",
       "    </tr>\n",
       "    <tr>\n",
       "      <th>std</th>\n",
       "      <td>2.578228e+02</td>\n",
       "      <td>NaN</td>\n",
       "      <td>NaN</td>\n",
       "      <td>NaN</td>\n",
       "      <td>13.311418</td>\n",
       "      <td>4.681245</td>\n",
       "      <td>1.137898</td>\n",
       "      <td>NaN</td>\n",
       "      <td>5.763265</td>\n",
       "      <td>3.411188</td>\n",
       "      <td>2.957237</td>\n",
       "      <td>8.777113</td>\n",
       "      <td>0.437736</td>\n",
       "      <td>NaN</td>\n",
       "      <td>NaN</td>\n",
       "      <td>78689.677900</td>\n",
       "      <td>2.751587</td>\n",
       "      <td>0.498076</td>\n",
       "      <td>1.131129</td>\n",
       "      <td>NaN</td>\n",
       "      <td>79304.953702</td>\n",
       "    </tr>\n",
       "    <tr>\n",
       "      <th>min</th>\n",
       "      <td>2.140000e+07</td>\n",
       "      <td>NaN</td>\n",
       "      <td>NaN</td>\n",
       "      <td>NaN</td>\n",
       "      <td>-53.000000</td>\n",
       "      <td>1.000000</td>\n",
       "      <td>1.000000</td>\n",
       "      <td>NaN</td>\n",
       "      <td>0.000000</td>\n",
       "      <td>0.000000</td>\n",
       "      <td>-100.500000</td>\n",
       "      <td>0.000000</td>\n",
       "      <td>2.000000</td>\n",
       "      <td>NaN</td>\n",
       "      <td>NaN</td>\n",
       "      <td>708.000000</td>\n",
       "      <td>0.000000</td>\n",
       "      <td>0.000000</td>\n",
       "      <td>0.000000</td>\n",
       "      <td>NaN</td>\n",
       "      <td>708.000000</td>\n",
       "    </tr>\n",
       "    <tr>\n",
       "      <th>25%</th>\n",
       "      <td>2.140023e+07</td>\n",
       "      <td>NaN</td>\n",
       "      <td>NaN</td>\n",
       "      <td>NaN</td>\n",
       "      <td>-8.000000</td>\n",
       "      <td>3.000000</td>\n",
       "      <td>1.000000</td>\n",
       "      <td>NaN</td>\n",
       "      <td>8.200000</td>\n",
       "      <td>0.000000</td>\n",
       "      <td>0.900000</td>\n",
       "      <td>4.700000</td>\n",
       "      <td>2.000000</td>\n",
       "      <td>NaN</td>\n",
       "      <td>NaN</td>\n",
       "      <td>200745.000000</td>\n",
       "      <td>2.300000</td>\n",
       "      <td>0.000000</td>\n",
       "      <td>0.000000</td>\n",
       "      <td>NaN</td>\n",
       "      <td>101162.000000</td>\n",
       "    </tr>\n",
       "    <tr>\n",
       "      <th>50%</th>\n",
       "      <td>2.140045e+07</td>\n",
       "      <td>NaN</td>\n",
       "      <td>NaN</td>\n",
       "      <td>NaN</td>\n",
       "      <td>1.000000</td>\n",
       "      <td>5.000000</td>\n",
       "      <td>2.000000</td>\n",
       "      <td>NaN</td>\n",
       "      <td>12.300000</td>\n",
       "      <td>1.000000</td>\n",
       "      <td>1.600000</td>\n",
       "      <td>13.400000</td>\n",
       "      <td>2.000000</td>\n",
       "      <td>NaN</td>\n",
       "      <td>NaN</td>\n",
       "      <td>201949.000000</td>\n",
       "      <td>3.700000</td>\n",
       "      <td>0.000000</td>\n",
       "      <td>0.000000</td>\n",
       "      <td>NaN</td>\n",
       "      <td>201939.000000</td>\n",
       "    </tr>\n",
       "    <tr>\n",
       "      <th>75%</th>\n",
       "      <td>2.140067e+07</td>\n",
       "      <td>NaN</td>\n",
       "      <td>NaN</td>\n",
       "      <td>NaN</td>\n",
       "      <td>9.000000</td>\n",
       "      <td>9.000000</td>\n",
       "      <td>3.000000</td>\n",
       "      <td>NaN</td>\n",
       "      <td>16.675000</td>\n",
       "      <td>2.000000</td>\n",
       "      <td>3.700000</td>\n",
       "      <td>22.400000</td>\n",
       "      <td>3.000000</td>\n",
       "      <td>NaN</td>\n",
       "      <td>NaN</td>\n",
       "      <td>203079.000000</td>\n",
       "      <td>5.300000</td>\n",
       "      <td>1.000000</td>\n",
       "      <td>2.000000</td>\n",
       "      <td>NaN</td>\n",
       "      <td>202704.000000</td>\n",
       "    </tr>\n",
       "    <tr>\n",
       "      <th>max</th>\n",
       "      <td>2.140091e+07</td>\n",
       "      <td>NaN</td>\n",
       "      <td>NaN</td>\n",
       "      <td>NaN</td>\n",
       "      <td>53.000000</td>\n",
       "      <td>37.000000</td>\n",
       "      <td>7.000000</td>\n",
       "      <td>NaN</td>\n",
       "      <td>24.000000</td>\n",
       "      <td>32.000000</td>\n",
       "      <td>24.900000</td>\n",
       "      <td>43.500000</td>\n",
       "      <td>3.000000</td>\n",
       "      <td>NaN</td>\n",
       "      <td>NaN</td>\n",
       "      <td>530027.000000</td>\n",
       "      <td>53.200000</td>\n",
       "      <td>1.000000</td>\n",
       "      <td>3.000000</td>\n",
       "      <td>NaN</td>\n",
       "      <td>204060.000000</td>\n",
       "    </tr>\n",
       "  </tbody>\n",
       "</table>\n",
       "</div>"
      ],
      "text/plain": [
       "             GAME_ID                     MATCHUP LOCATION       W  \\\n",
       "count   1.225020e+05                      122502   122502  122502   \n",
       "unique           NaN                        1792        2       2   \n",
       "top              NaN  FEB 07, 2015 - DAL vs. POR        A       W   \n",
       "freq             NaN                         102    61315   62149   \n",
       "mean    2.140045e+07                         NaN      NaN     NaN   \n",
       "std     2.578228e+02                         NaN      NaN     NaN   \n",
       "min     2.140000e+07                         NaN      NaN     NaN   \n",
       "25%     2.140023e+07                         NaN      NaN     NaN   \n",
       "50%     2.140045e+07                         NaN      NaN     NaN   \n",
       "75%     2.140067e+07                         NaN      NaN     NaN   \n",
       "max     2.140091e+07                         NaN      NaN     NaN   \n",
       "\n",
       "         FINAL_MARGIN    SHOT_NUMBER         PERIOD GAME_CLOCK     SHOT_CLOCK  \\\n",
       "count   122502.000000  122502.000000  122502.000000     122502  122502.000000   \n",
       "unique            NaN            NaN            NaN        718            NaN   \n",
       "top               NaN            NaN            NaN      11:46            NaN   \n",
       "freq              NaN            NaN            NaN        265            NaN   \n",
       "mean         0.252396       6.476164       2.471454        NaN      12.453344   \n",
       "std         13.311418       4.681245       1.137898        NaN       5.763265   \n",
       "min        -53.000000       1.000000       1.000000        NaN       0.000000   \n",
       "25%         -8.000000       3.000000       1.000000        NaN       8.200000   \n",
       "50%          1.000000       5.000000       2.000000        NaN      12.300000   \n",
       "75%          9.000000       9.000000       3.000000        NaN      16.675000   \n",
       "max         53.000000      37.000000       7.000000        NaN      24.000000   \n",
       "\n",
       "             DRIBBLES     TOUCH_TIME      SHOT_DIST       PTS_TYPE  \\\n",
       "count   122502.000000  122502.000000  122502.000000  122502.000000   \n",
       "unique            NaN            NaN            NaN            NaN   \n",
       "top               NaN            NaN            NaN            NaN   \n",
       "freq              NaN            NaN            NaN            NaN   \n",
       "mean         1.989233       2.748202      13.443758       2.258363   \n",
       "std          3.411188       2.957237       8.777113       0.437736   \n",
       "min          0.000000    -100.500000       0.000000       2.000000   \n",
       "25%          0.000000       0.900000       4.700000       2.000000   \n",
       "50%          1.000000       1.600000      13.400000       2.000000   \n",
       "75%          2.000000       3.700000      22.400000       3.000000   \n",
       "max         32.000000      24.900000      43.500000       3.000000   \n",
       "\n",
       "       SHOT_RESULT CLOSEST_DEFENDER  CLOSEST_DEFENDER_PLAYER_ID  \\\n",
       "count       122502           122502               122502.000000   \n",
       "unique           2              473                         NaN   \n",
       "top         missed     Ibaka, Serge                         NaN   \n",
       "freq         66622              802                         NaN   \n",
       "mean           NaN              NaN               159120.427977   \n",
       "std            NaN              NaN                78689.677900   \n",
       "min            NaN              NaN                  708.000000   \n",
       "25%            NaN              NaN               200745.000000   \n",
       "50%            NaN              NaN               201949.000000   \n",
       "75%            NaN              NaN               203079.000000   \n",
       "max            NaN              NaN               530027.000000   \n",
       "\n",
       "        CLOSE_DEF_DIST            FGM            PTS        player_name  \\\n",
       "count    122502.000000  122502.000000  122502.000000             122502   \n",
       "unique             NaN            NaN            NaN                281   \n",
       "top                NaN            NaN            NaN  lamarcus aldridge   \n",
       "freq               NaN            NaN            NaN               1010   \n",
       "mean          4.121706       0.456156       1.005469                NaN   \n",
       "std           2.751587       0.498076       1.131129                NaN   \n",
       "min           0.000000       0.000000       0.000000                NaN   \n",
       "25%           2.300000       0.000000       0.000000                NaN   \n",
       "50%           3.700000       0.000000       0.000000                NaN   \n",
       "75%           5.300000       1.000000       2.000000                NaN   \n",
       "max          53.200000       1.000000       3.000000                NaN   \n",
       "\n",
       "            player_id  \n",
       "count   122502.000000  \n",
       "unique            NaN  \n",
       "top               NaN  \n",
       "freq              NaN  \n",
       "mean    157334.912965  \n",
       "std      79304.953702  \n",
       "min        708.000000  \n",
       "25%     101162.000000  \n",
       "50%     201939.000000  \n",
       "75%     202704.000000  \n",
       "max     204060.000000  "
      ]
     },
     "execution_count": 8,
     "metadata": {},
     "output_type": "execute_result"
    }
   ],
   "source": [
    "# analiza svih atributa\n",
    "shot_logs.describe(include='all')"
   ]
  },
  {
   "cell_type": "markdown",
   "id": "b8c429a4",
   "metadata": {},
   "source": [
    "nema stršećih vrijednosti. Također, ne bi trebalo biti nekonzistentnih podataka"
   ]
  },
  {
   "cell_type": "markdown",
   "id": "227802eb",
   "metadata": {},
   "source": [
    "Također, atributi FGM i PTS su savršeni prediktori ciljane varijable pa se zato neće koristiti u predikciji."
   ]
  },
  {
   "cell_type": "markdown",
   "id": "1f4e82b0",
   "metadata": {},
   "source": [
    "# Vizualizacija podataka"
   ]
  },
  {
   "cell_type": "markdown",
   "id": "d4baec23",
   "metadata": {},
   "source": [
    "## Kategorički podaci\n",
    "\n",
    "Uočava se da su sljedeći atributi kategorički: *MATCHUP*, *LOCATION*, *W*, *DRIBBLES*, *SHOT_RESULT*, *CLOSEST_DEFENDER*, \n",
    "*CLOSEST_DEFENDER_PLAYER_ID*, *player_name*, *player_id*, *PTS_TYPE*, *SHOT_NUMBER*, *PERIOD* i *GAME_CLOCK*\n",
    "\n",
    "vizulizirat će se sljedeća 6 atributa: LOCATION, W, DRIBBLES, SHOT_RESULT, PTS_TYPE i  SHOT_NUMBER. Dok se ostali neće budući su ostali atributi id-ovi igrača ili utakmica."
   ]
  },
  {
   "cell_type": "code",
   "execution_count": 9,
   "id": "3a318e4d",
   "metadata": {},
   "outputs": [
    {
     "data": {
      "text/html": [
       "<div>\n",
       "<style scoped>\n",
       "    .dataframe tbody tr th:only-of-type {\n",
       "        vertical-align: middle;\n",
       "    }\n",
       "\n",
       "    .dataframe tbody tr th {\n",
       "        vertical-align: top;\n",
       "    }\n",
       "\n",
       "    .dataframe thead th {\n",
       "        text-align: right;\n",
       "    }\n",
       "</style>\n",
       "<table border=\"1\" class=\"dataframe\">\n",
       "  <thead>\n",
       "    <tr style=\"text-align: right;\">\n",
       "      <th></th>\n",
       "      <th>LOCATION</th>\n",
       "      <th>W</th>\n",
       "      <th>FINAL_MARGIN</th>\n",
       "      <th>SHOT_NUMBER</th>\n",
       "      <th>PERIOD</th>\n",
       "      <th>GAME_CLOCK</th>\n",
       "      <th>SHOT_CLOCK</th>\n",
       "      <th>DRIBBLES</th>\n",
       "      <th>TOUCH_TIME</th>\n",
       "      <th>SHOT_DIST</th>\n",
       "      <th>PTS_TYPE</th>\n",
       "      <th>SHOT_RESULT</th>\n",
       "      <th>CLOSE_DEF_DIST</th>\n",
       "      <th>FGM</th>\n",
       "      <th>PTS</th>\n",
       "    </tr>\n",
       "  </thead>\n",
       "  <tbody>\n",
       "    <tr>\n",
       "      <th>0</th>\n",
       "      <td>A</td>\n",
       "      <td>W</td>\n",
       "      <td>24</td>\n",
       "      <td>1</td>\n",
       "      <td>1</td>\n",
       "      <td>1:09</td>\n",
       "      <td>10.8</td>\n",
       "      <td>2</td>\n",
       "      <td>1.9</td>\n",
       "      <td>7.7</td>\n",
       "      <td>2</td>\n",
       "      <td>made</td>\n",
       "      <td>1.3</td>\n",
       "      <td>1</td>\n",
       "      <td>2</td>\n",
       "    </tr>\n",
       "    <tr>\n",
       "      <th>1</th>\n",
       "      <td>A</td>\n",
       "      <td>W</td>\n",
       "      <td>24</td>\n",
       "      <td>2</td>\n",
       "      <td>1</td>\n",
       "      <td>0:14</td>\n",
       "      <td>3.4</td>\n",
       "      <td>0</td>\n",
       "      <td>0.8</td>\n",
       "      <td>28.2</td>\n",
       "      <td>3</td>\n",
       "      <td>missed</td>\n",
       "      <td>6.1</td>\n",
       "      <td>0</td>\n",
       "      <td>0</td>\n",
       "    </tr>\n",
       "    <tr>\n",
       "      <th>3</th>\n",
       "      <td>A</td>\n",
       "      <td>W</td>\n",
       "      <td>24</td>\n",
       "      <td>4</td>\n",
       "      <td>2</td>\n",
       "      <td>11:47</td>\n",
       "      <td>10.3</td>\n",
       "      <td>2</td>\n",
       "      <td>1.9</td>\n",
       "      <td>17.2</td>\n",
       "      <td>2</td>\n",
       "      <td>missed</td>\n",
       "      <td>3.4</td>\n",
       "      <td>0</td>\n",
       "      <td>0</td>\n",
       "    </tr>\n",
       "    <tr>\n",
       "      <th>4</th>\n",
       "      <td>A</td>\n",
       "      <td>W</td>\n",
       "      <td>24</td>\n",
       "      <td>5</td>\n",
       "      <td>2</td>\n",
       "      <td>10:34</td>\n",
       "      <td>10.9</td>\n",
       "      <td>2</td>\n",
       "      <td>2.7</td>\n",
       "      <td>3.7</td>\n",
       "      <td>2</td>\n",
       "      <td>missed</td>\n",
       "      <td>1.1</td>\n",
       "      <td>0</td>\n",
       "      <td>0</td>\n",
       "    </tr>\n",
       "    <tr>\n",
       "      <th>5</th>\n",
       "      <td>A</td>\n",
       "      <td>W</td>\n",
       "      <td>24</td>\n",
       "      <td>6</td>\n",
       "      <td>2</td>\n",
       "      <td>8:15</td>\n",
       "      <td>9.1</td>\n",
       "      <td>2</td>\n",
       "      <td>4.4</td>\n",
       "      <td>18.4</td>\n",
       "      <td>2</td>\n",
       "      <td>missed</td>\n",
       "      <td>2.6</td>\n",
       "      <td>0</td>\n",
       "      <td>0</td>\n",
       "    </tr>\n",
       "    <tr>\n",
       "      <th>...</th>\n",
       "      <td>...</td>\n",
       "      <td>...</td>\n",
       "      <td>...</td>\n",
       "      <td>...</td>\n",
       "      <td>...</td>\n",
       "      <td>...</td>\n",
       "      <td>...</td>\n",
       "      <td>...</td>\n",
       "      <td>...</td>\n",
       "      <td>...</td>\n",
       "      <td>...</td>\n",
       "      <td>...</td>\n",
       "      <td>...</td>\n",
       "      <td>...</td>\n",
       "      <td>...</td>\n",
       "    </tr>\n",
       "    <tr>\n",
       "      <th>128063</th>\n",
       "      <td>A</td>\n",
       "      <td>L</td>\n",
       "      <td>-16</td>\n",
       "      <td>4</td>\n",
       "      <td>2</td>\n",
       "      <td>5:05</td>\n",
       "      <td>15.3</td>\n",
       "      <td>2</td>\n",
       "      <td>1.6</td>\n",
       "      <td>8.9</td>\n",
       "      <td>2</td>\n",
       "      <td>made</td>\n",
       "      <td>5.7</td>\n",
       "      <td>1</td>\n",
       "      <td>2</td>\n",
       "    </tr>\n",
       "    <tr>\n",
       "      <th>128064</th>\n",
       "      <td>A</td>\n",
       "      <td>L</td>\n",
       "      <td>-16</td>\n",
       "      <td>5</td>\n",
       "      <td>3</td>\n",
       "      <td>1:52</td>\n",
       "      <td>18.3</td>\n",
       "      <td>5</td>\n",
       "      <td>6.2</td>\n",
       "      <td>8.7</td>\n",
       "      <td>2</td>\n",
       "      <td>missed</td>\n",
       "      <td>0.8</td>\n",
       "      <td>0</td>\n",
       "      <td>0</td>\n",
       "    </tr>\n",
       "    <tr>\n",
       "      <th>128065</th>\n",
       "      <td>A</td>\n",
       "      <td>L</td>\n",
       "      <td>-16</td>\n",
       "      <td>6</td>\n",
       "      <td>4</td>\n",
       "      <td>11:28</td>\n",
       "      <td>19.8</td>\n",
       "      <td>4</td>\n",
       "      <td>5.2</td>\n",
       "      <td>0.6</td>\n",
       "      <td>2</td>\n",
       "      <td>made</td>\n",
       "      <td>0.6</td>\n",
       "      <td>1</td>\n",
       "      <td>2</td>\n",
       "    </tr>\n",
       "    <tr>\n",
       "      <th>128066</th>\n",
       "      <td>A</td>\n",
       "      <td>L</td>\n",
       "      <td>-16</td>\n",
       "      <td>7</td>\n",
       "      <td>4</td>\n",
       "      <td>11:10</td>\n",
       "      <td>23.0</td>\n",
       "      <td>2</td>\n",
       "      <td>4.2</td>\n",
       "      <td>16.9</td>\n",
       "      <td>2</td>\n",
       "      <td>made</td>\n",
       "      <td>4.2</td>\n",
       "      <td>1</td>\n",
       "      <td>2</td>\n",
       "    </tr>\n",
       "    <tr>\n",
       "      <th>128067</th>\n",
       "      <td>A</td>\n",
       "      <td>L</td>\n",
       "      <td>-16</td>\n",
       "      <td>8</td>\n",
       "      <td>4</td>\n",
       "      <td>2:37</td>\n",
       "      <td>9.1</td>\n",
       "      <td>4</td>\n",
       "      <td>4.5</td>\n",
       "      <td>18.3</td>\n",
       "      <td>2</td>\n",
       "      <td>missed</td>\n",
       "      <td>3.0</td>\n",
       "      <td>0</td>\n",
       "      <td>0</td>\n",
       "    </tr>\n",
       "  </tbody>\n",
       "</table>\n",
       "<p>122502 rows × 15 columns</p>\n",
       "</div>"
      ],
      "text/plain": [
       "       LOCATION  W  FINAL_MARGIN  SHOT_NUMBER  PERIOD GAME_CLOCK  SHOT_CLOCK  \\\n",
       "0             A  W            24            1       1       1:09        10.8   \n",
       "1             A  W            24            2       1       0:14         3.4   \n",
       "3             A  W            24            4       2      11:47        10.3   \n",
       "4             A  W            24            5       2      10:34        10.9   \n",
       "5             A  W            24            6       2       8:15         9.1   \n",
       "...         ... ..           ...          ...     ...        ...         ...   \n",
       "128063        A  L           -16            4       2       5:05        15.3   \n",
       "128064        A  L           -16            5       3       1:52        18.3   \n",
       "128065        A  L           -16            6       4      11:28        19.8   \n",
       "128066        A  L           -16            7       4      11:10        23.0   \n",
       "128067        A  L           -16            8       4       2:37         9.1   \n",
       "\n",
       "        DRIBBLES  TOUCH_TIME  SHOT_DIST  PTS_TYPE SHOT_RESULT  CLOSE_DEF_DIST  \\\n",
       "0              2         1.9        7.7         2        made             1.3   \n",
       "1              0         0.8       28.2         3      missed             6.1   \n",
       "3              2         1.9       17.2         2      missed             3.4   \n",
       "4              2         2.7        3.7         2      missed             1.1   \n",
       "5              2         4.4       18.4         2      missed             2.6   \n",
       "...          ...         ...        ...       ...         ...             ...   \n",
       "128063         2         1.6        8.9         2        made             5.7   \n",
       "128064         5         6.2        8.7         2      missed             0.8   \n",
       "128065         4         5.2        0.6         2        made             0.6   \n",
       "128066         2         4.2       16.9         2        made             4.2   \n",
       "128067         4         4.5       18.3         2      missed             3.0   \n",
       "\n",
       "        FGM  PTS  \n",
       "0         1    2  \n",
       "1         0    0  \n",
       "3         0    0  \n",
       "4         0    0  \n",
       "5         0    0  \n",
       "...     ...  ...  \n",
       "128063    1    2  \n",
       "128064    0    0  \n",
       "128065    1    2  \n",
       "128066    1    2  \n",
       "128067    0    0  \n",
       "\n",
       "[122502 rows x 15 columns]"
      ]
     },
     "execution_count": 9,
     "metadata": {},
     "output_type": "execute_result"
    }
   ],
   "source": [
    "# uklanjanje atributa s više od dvije kategoričke vrijednosti\n",
    "shot_logs.drop(columns=['GAME_ID', 'MATCHUP', 'CLOSEST_DEFENDER','CLOSEST_DEFENDER_PLAYER_ID', 'player_name','player_id'])"
   ]
  },
  {
   "cell_type": "code",
   "execution_count": 10,
   "id": "f2d75309",
   "metadata": {},
   "outputs": [
    {
     "data": {
      "image/png": "[encoded data removed]",
      "text/plain": [
       "<Figure size 432x288 with 1 Axes>"
      ]
     },
     "metadata": {
      "needs_background": "light"
     },
     "output_type": "display_data"
    },
    {
     "data": {
      "image/png": "[encoded data removed]",
      "text/plain": [
       "<Figure size 432x288 with 1 Axes>"
      ]
     },
     "metadata": {
      "needs_background": "light"
     },
     "output_type": "display_data"
    },
    {
     "data": {
      "image/png": "[encoded data removed]",
      "text/plain": [
       "<Figure size 432x288 with 1 Axes>"
      ]
     },
     "metadata": {
      "needs_background": "light"
     },
     "output_type": "display_data"
    },
    {
     "data": {
      "image/png": "[encoded data removed]",
      "text/plain": [
       "<Figure size 432x288 with 1 Axes>"
      ]
     },
     "metadata": {
      "needs_background": "light"
     },
     "output_type": "display_data"
    },
    {
     "data": {
      "image/png": "[encoded data removed]",
      "text/plain": [
       "<Figure size 432x288 with 1 Axes>"
      ]
     },
     "metadata": {
      "needs_background": "light"
     },
     "output_type": "display_data"
    },
    {
     "data": {
      "image/png": "[encoded data removed]",
      "text/plain": [
       "<Figure size 432x288 with 1 Axes>"
      ]
     },
     "metadata": {
      "needs_background": "light"
     },
     "output_type": "display_data"
    },
    {
     "data": {
      "text/plain": [
       "<Figure size 432x288 with 0 Axes>"
      ]
     },
     "metadata": {},
     "output_type": "display_data"
    }
   ],
   "source": [
    "categorical_features = ['LOCATION', 'W', 'DRIBBLES', 'SHOT_RESULT','PTS_TYPE','SHOT_NUMBER']\n",
    "for i, categorical_feature in enumerate(shot_logs[categorical_features]):\n",
    "    shot_logs[categorical_feature].value_counts().plot(kind=\"bar\",label=str(shot_logs[categorical_feature].value_counts())).set_title(categorical_feature)\n",
    "    plt.legend(bbox_to_anchor=(1, 1.022))\n",
    "    plt.figure()\n",
    "plt.show()"
   ]
  },
  {
   "cell_type": "markdown",
   "id": "b61e617a",
   "metadata": {},
   "source": [
    "posebno za atribut CLOSEST_DEFENDER ću iznijeti vrijednosti bez histograma jer bi bio nepregledan. Iz ispisa vidimo npr. da je Serge Ibaka najčešće najbliži igrač u obrani u ovom dataset-u te da je ukupno zabilježeno 473 igrača u ovoj ulozi."
   ]
  },
  {
   "cell_type": "code",
   "execution_count": 11,
   "id": "1a04d14a",
   "metadata": {},
   "outputs": [
    {
     "data": {
      "text/plain": [
       "Ibaka, Serge           802\n",
       "Jordan, DeAndre        786\n",
       "Green, Draymond        737\n",
       "Gasol, Pau             716\n",
       "Millsap, Paul          702\n",
       "                      ... \n",
       "Raduljica, Miroslav      1\n",
       "Caboclo, Bruno           1\n",
       "Moreland, Eric           1\n",
       "Ledo, Ricky              1\n",
       "Murry, Toure             1\n",
       "Name: CLOSEST_DEFENDER, Length: 473, dtype: int64"
      ]
     },
     "execution_count": 11,
     "metadata": {},
     "output_type": "execute_result"
    }
   ],
   "source": [
    "shot_logs['CLOSEST_DEFENDER'].value_counts()"
   ]
  },
  {
   "cell_type": "markdown",
   "id": "db2ae187",
   "metadata": {},
   "source": [
    "### Korelacija kategoričkih varijabli"
   ]
  },
  {
   "cell_type": "code",
   "execution_count": 12,
   "id": "6603174a",
   "metadata": {},
   "outputs": [
    {
     "data": {
      "image/png": "[encoded data removed]",
      "text/plain": [
       "<Figure size 864x360 with 2 Axes>"
      ]
     },
     "metadata": {},
     "output_type": "display_data"
    }
   ],
   "source": [
    "shot_logs_numeric = shot_logs.loc[:,shot_logs.columns.isin(['DRIBBLES','PTS_TYPE','SHOT_NUMBER'])]\n",
    "sns.set(rc={'figure.figsize':(12,5)})\n",
    "sns.heatmap(shot_logs_numeric.corr(), annot=True, fmt=\".2f\", cmap=\"YlGnBu\", linewidths=.5)\n",
    "plt.show()"
   ]
  },
  {
   "cell_type": "markdown",
   "id": "ec088e76",
   "metadata": {},
   "source": [
    "Nema naznaka na jaču korelaciju."
   ]
  },
  {
   "cell_type": "markdown",
   "id": "02917c4e",
   "metadata": {},
   "source": [
    "## Numerički podaci\n",
    "\n",
    "Uočava se da su sljedeći atributi numerički: *FINAL_MARGIN*, *SHOT_CLOCK*, *TOUCH_TIME*, *SHOT_DIST*"
   ]
  },
  {
   "cell_type": "markdown",
   "id": "1d2ce42e",
   "metadata": {},
   "source": [
    "Pogledajmo atribut GAME_CLOCK, njegov je oblik MM:SS tj. prikazan je minutama i sekundama,a želimo ga prebaciti u samo sekunde."
   ]
  },
  {
   "cell_type": "code",
   "execution_count": 13,
   "id": "fc48da4d",
   "metadata": {},
   "outputs": [
    {
     "name": "stdout",
     "output_type": "stream",
     "text": [
      "0          1:09\n",
      "1          0:14\n",
      "3         11:47\n",
      "4         10:34\n",
      "5          8:15\n",
      "          ...  \n",
      "128063     5:05\n",
      "128064     1:52\n",
      "128065    11:28\n",
      "128066    11:10\n",
      "128067     2:37\n",
      "Name: GAME_CLOCK, Length: 122502, dtype: object\n",
      "0          69.0\n",
      "1          14.0\n",
      "3         707.0\n",
      "4         634.0\n",
      "5         495.0\n",
      "          ...  \n",
      "128063    305.0\n",
      "128064    112.0\n",
      "128065    688.0\n",
      "128066    670.0\n",
      "128067    157.0\n",
      "Name: GAME_CLOCK, Length: 122502, dtype: float64\n"
     ]
    }
   ],
   "source": [
    "print(shot_logs['GAME_CLOCK'])\n",
    "\n",
    "# funkcija koja prima time string u obliku MM:SS i vraća vrijednost u sekundama\n",
    "def get_seconds(time_string):\n",
    "    date_time = datetime.datetime.strptime(time_string, \"%M:%S\")\n",
    "    a_timedelta = date_time - datetime.datetime(1900, 1, 1)\n",
    "    seconds = a_timedelta.total_seconds()\n",
    "    return seconds\n",
    "\n",
    "shot_logs['GAME_CLOCK']=shot_logs['GAME_CLOCK'].apply(get_seconds)\n",
    "\n",
    "print(shot_logs['GAME_CLOCK'])"
   ]
  },
  {
   "cell_type": "markdown",
   "id": "ac4af0d3",
   "metadata": {},
   "source": [
    "Dalje, obavlja se spajanje atributa GAME_CLOCK i PERIOD u novi atribut TOTAL_GAME_TIME koji omogućava razlikovanje istih vremena za različite četvrtine. \n",
    "Zato što npr. nije isto pucati u zadnjoj minuti prve četvrtine i u zadnjoj minuti zadnje četvrtine."
   ]
  },
  {
   "cell_type": "code",
   "execution_count": 14,
   "id": "7ac4052c",
   "metadata": {},
   "outputs": [
    {
     "name": "stdout",
     "output_type": "stream",
     "text": [
      "        GAME_CLOCK  PERIOD\n",
      "0             69.0       1\n",
      "1             14.0       1\n",
      "3            707.0       2\n",
      "4            634.0       2\n",
      "5            495.0       2\n",
      "...            ...     ...\n",
      "128063       305.0       2\n",
      "128064       112.0       3\n",
      "128065       688.0       4\n",
      "128066       670.0       4\n",
      "128067       157.0       4\n",
      "\n",
      "[122502 rows x 2 columns]\n",
      "        GAME_CLOCK  PERIOD  TOTAL_GAME_TIME\n",
      "0             69.0       1             69.0\n",
      "1             14.0       1             14.0\n",
      "3            707.0       2           1427.0\n",
      "4            634.0       2           1354.0\n",
      "5            495.0       2           1215.0\n",
      "...            ...     ...              ...\n",
      "128063       305.0       2           1025.0\n",
      "128064       112.0       3           1552.0\n",
      "128065       688.0       4           2848.0\n",
      "128066       670.0       4           2830.0\n",
      "128067       157.0       4           2317.0\n",
      "\n",
      "[122502 rows x 3 columns]\n"
     ]
    },
    {
     "data": {
      "text/html": [
       "<div>\n",
       "<style scoped>\n",
       "    .dataframe tbody tr th:only-of-type {\n",
       "        vertical-align: middle;\n",
       "    }\n",
       "\n",
       "    .dataframe tbody tr th {\n",
       "        vertical-align: top;\n",
       "    }\n",
       "\n",
       "    .dataframe thead th {\n",
       "        text-align: right;\n",
       "    }\n",
       "</style>\n",
       "<table border=\"1\" class=\"dataframe\">\n",
       "  <thead>\n",
       "    <tr style=\"text-align: right;\">\n",
       "      <th></th>\n",
       "      <th>GAME_ID</th>\n",
       "      <th>MATCHUP</th>\n",
       "      <th>LOCATION</th>\n",
       "      <th>W</th>\n",
       "      <th>FINAL_MARGIN</th>\n",
       "      <th>SHOT_NUMBER</th>\n",
       "      <th>SHOT_CLOCK</th>\n",
       "      <th>DRIBBLES</th>\n",
       "      <th>TOUCH_TIME</th>\n",
       "      <th>SHOT_DIST</th>\n",
       "      <th>PTS_TYPE</th>\n",
       "      <th>SHOT_RESULT</th>\n",
       "      <th>CLOSEST_DEFENDER</th>\n",
       "      <th>CLOSEST_DEFENDER_PLAYER_ID</th>\n",
       "      <th>CLOSE_DEF_DIST</th>\n",
       "      <th>FGM</th>\n",
       "      <th>PTS</th>\n",
       "      <th>player_name</th>\n",
       "      <th>player_id</th>\n",
       "      <th>TOTAL_GAME_TIME</th>\n",
       "    </tr>\n",
       "  </thead>\n",
       "  <tbody>\n",
       "    <tr>\n",
       "      <th>0</th>\n",
       "      <td>21400899</td>\n",
       "      <td>MAR 04, 2015 - CHA @ BKN</td>\n",
       "      <td>A</td>\n",
       "      <td>W</td>\n",
       "      <td>24</td>\n",
       "      <td>1</td>\n",
       "      <td>10.8</td>\n",
       "      <td>2</td>\n",
       "      <td>1.9</td>\n",
       "      <td>7.7</td>\n",
       "      <td>2</td>\n",
       "      <td>made</td>\n",
       "      <td>Anderson, Alan</td>\n",
       "      <td>101187</td>\n",
       "      <td>1.3</td>\n",
       "      <td>1</td>\n",
       "      <td>2</td>\n",
       "      <td>brian roberts</td>\n",
       "      <td>203148</td>\n",
       "      <td>69.0</td>\n",
       "    </tr>\n",
       "    <tr>\n",
       "      <th>1</th>\n",
       "      <td>21400899</td>\n",
       "      <td>MAR 04, 2015 - CHA @ BKN</td>\n",
       "      <td>A</td>\n",
       "      <td>W</td>\n",
       "      <td>24</td>\n",
       "      <td>2</td>\n",
       "      <td>3.4</td>\n",
       "      <td>0</td>\n",
       "      <td>0.8</td>\n",
       "      <td>28.2</td>\n",
       "      <td>3</td>\n",
       "      <td>missed</td>\n",
       "      <td>Bogdanovic, Bojan</td>\n",
       "      <td>202711</td>\n",
       "      <td>6.1</td>\n",
       "      <td>0</td>\n",
       "      <td>0</td>\n",
       "      <td>brian roberts</td>\n",
       "      <td>203148</td>\n",
       "      <td>14.0</td>\n",
       "    </tr>\n",
       "    <tr>\n",
       "      <th>3</th>\n",
       "      <td>21400899</td>\n",
       "      <td>MAR 04, 2015 - CHA @ BKN</td>\n",
       "      <td>A</td>\n",
       "      <td>W</td>\n",
       "      <td>24</td>\n",
       "      <td>4</td>\n",
       "      <td>10.3</td>\n",
       "      <td>2</td>\n",
       "      <td>1.9</td>\n",
       "      <td>17.2</td>\n",
       "      <td>2</td>\n",
       "      <td>missed</td>\n",
       "      <td>Brown, Markel</td>\n",
       "      <td>203900</td>\n",
       "      <td>3.4</td>\n",
       "      <td>0</td>\n",
       "      <td>0</td>\n",
       "      <td>brian roberts</td>\n",
       "      <td>203148</td>\n",
       "      <td>1427.0</td>\n",
       "    </tr>\n",
       "    <tr>\n",
       "      <th>4</th>\n",
       "      <td>21400899</td>\n",
       "      <td>MAR 04, 2015 - CHA @ BKN</td>\n",
       "      <td>A</td>\n",
       "      <td>W</td>\n",
       "      <td>24</td>\n",
       "      <td>5</td>\n",
       "      <td>10.9</td>\n",
       "      <td>2</td>\n",
       "      <td>2.7</td>\n",
       "      <td>3.7</td>\n",
       "      <td>2</td>\n",
       "      <td>missed</td>\n",
       "      <td>Young, Thaddeus</td>\n",
       "      <td>201152</td>\n",
       "      <td>1.1</td>\n",
       "      <td>0</td>\n",
       "      <td>0</td>\n",
       "      <td>brian roberts</td>\n",
       "      <td>203148</td>\n",
       "      <td>1354.0</td>\n",
       "    </tr>\n",
       "    <tr>\n",
       "      <th>5</th>\n",
       "      <td>21400899</td>\n",
       "      <td>MAR 04, 2015 - CHA @ BKN</td>\n",
       "      <td>A</td>\n",
       "      <td>W</td>\n",
       "      <td>24</td>\n",
       "      <td>6</td>\n",
       "      <td>9.1</td>\n",
       "      <td>2</td>\n",
       "      <td>4.4</td>\n",
       "      <td>18.4</td>\n",
       "      <td>2</td>\n",
       "      <td>missed</td>\n",
       "      <td>Williams, Deron</td>\n",
       "      <td>101114</td>\n",
       "      <td>2.6</td>\n",
       "      <td>0</td>\n",
       "      <td>0</td>\n",
       "      <td>brian roberts</td>\n",
       "      <td>203148</td>\n",
       "      <td>1215.0</td>\n",
       "    </tr>\n",
       "    <tr>\n",
       "      <th>...</th>\n",
       "      <td>...</td>\n",
       "      <td>...</td>\n",
       "      <td>...</td>\n",
       "      <td>...</td>\n",
       "      <td>...</td>\n",
       "      <td>...</td>\n",
       "      <td>...</td>\n",
       "      <td>...</td>\n",
       "      <td>...</td>\n",
       "      <td>...</td>\n",
       "      <td>...</td>\n",
       "      <td>...</td>\n",
       "      <td>...</td>\n",
       "      <td>...</td>\n",
       "      <td>...</td>\n",
       "      <td>...</td>\n",
       "      <td>...</td>\n",
       "      <td>...</td>\n",
       "      <td>...</td>\n",
       "      <td>...</td>\n",
       "    </tr>\n",
       "    <tr>\n",
       "      <th>128063</th>\n",
       "      <td>21400006</td>\n",
       "      <td>OCT 29, 2014 - BKN @ BOS</td>\n",
       "      <td>A</td>\n",
       "      <td>L</td>\n",
       "      <td>-16</td>\n",
       "      <td>4</td>\n",
       "      <td>15.3</td>\n",
       "      <td>2</td>\n",
       "      <td>1.6</td>\n",
       "      <td>8.9</td>\n",
       "      <td>2</td>\n",
       "      <td>made</td>\n",
       "      <td>Sullinger, Jared</td>\n",
       "      <td>203096</td>\n",
       "      <td>5.7</td>\n",
       "      <td>1</td>\n",
       "      <td>2</td>\n",
       "      <td>jarrett jack</td>\n",
       "      <td>101127</td>\n",
       "      <td>1025.0</td>\n",
       "    </tr>\n",
       "    <tr>\n",
       "      <th>128064</th>\n",
       "      <td>21400006</td>\n",
       "      <td>OCT 29, 2014 - BKN @ BOS</td>\n",
       "      <td>A</td>\n",
       "      <td>L</td>\n",
       "      <td>-16</td>\n",
       "      <td>5</td>\n",
       "      <td>18.3</td>\n",
       "      <td>5</td>\n",
       "      <td>6.2</td>\n",
       "      <td>8.7</td>\n",
       "      <td>2</td>\n",
       "      <td>missed</td>\n",
       "      <td>Smart, Marcus</td>\n",
       "      <td>203935</td>\n",
       "      <td>0.8</td>\n",
       "      <td>0</td>\n",
       "      <td>0</td>\n",
       "      <td>jarrett jack</td>\n",
       "      <td>101127</td>\n",
       "      <td>1552.0</td>\n",
       "    </tr>\n",
       "    <tr>\n",
       "      <th>128065</th>\n",
       "      <td>21400006</td>\n",
       "      <td>OCT 29, 2014 - BKN @ BOS</td>\n",
       "      <td>A</td>\n",
       "      <td>L</td>\n",
       "      <td>-16</td>\n",
       "      <td>6</td>\n",
       "      <td>19.8</td>\n",
       "      <td>4</td>\n",
       "      <td>5.2</td>\n",
       "      <td>0.6</td>\n",
       "      <td>2</td>\n",
       "      <td>made</td>\n",
       "      <td>Turner, Evan</td>\n",
       "      <td>202323</td>\n",
       "      <td>0.6</td>\n",
       "      <td>1</td>\n",
       "      <td>2</td>\n",
       "      <td>jarrett jack</td>\n",
       "      <td>101127</td>\n",
       "      <td>2848.0</td>\n",
       "    </tr>\n",
       "    <tr>\n",
       "      <th>128066</th>\n",
       "      <td>21400006</td>\n",
       "      <td>OCT 29, 2014 - BKN @ BOS</td>\n",
       "      <td>A</td>\n",
       "      <td>L</td>\n",
       "      <td>-16</td>\n",
       "      <td>7</td>\n",
       "      <td>23.0</td>\n",
       "      <td>2</td>\n",
       "      <td>4.2</td>\n",
       "      <td>16.9</td>\n",
       "      <td>2</td>\n",
       "      <td>made</td>\n",
       "      <td>Thornton, Marcus</td>\n",
       "      <td>201977</td>\n",
       "      <td>4.2</td>\n",
       "      <td>1</td>\n",
       "      <td>2</td>\n",
       "      <td>jarrett jack</td>\n",
       "      <td>101127</td>\n",
       "      <td>2830.0</td>\n",
       "    </tr>\n",
       "    <tr>\n",
       "      <th>128067</th>\n",
       "      <td>21400006</td>\n",
       "      <td>OCT 29, 2014 - BKN @ BOS</td>\n",
       "      <td>A</td>\n",
       "      <td>L</td>\n",
       "      <td>-16</td>\n",
       "      <td>8</td>\n",
       "      <td>9.1</td>\n",
       "      <td>4</td>\n",
       "      <td>4.5</td>\n",
       "      <td>18.3</td>\n",
       "      <td>2</td>\n",
       "      <td>missed</td>\n",
       "      <td>Bradley, Avery</td>\n",
       "      <td>202340</td>\n",
       "      <td>3.0</td>\n",
       "      <td>0</td>\n",
       "      <td>0</td>\n",
       "      <td>jarrett jack</td>\n",
       "      <td>101127</td>\n",
       "      <td>2317.0</td>\n",
       "    </tr>\n",
       "  </tbody>\n",
       "</table>\n",
       "<p>122502 rows × 20 columns</p>\n",
       "</div>"
      ],
      "text/plain": [
       "         GAME_ID                   MATCHUP LOCATION  W  FINAL_MARGIN  \\\n",
       "0       21400899  MAR 04, 2015 - CHA @ BKN        A  W            24   \n",
       "1       21400899  MAR 04, 2015 - CHA @ BKN        A  W            24   \n",
       "3       21400899  MAR 04, 2015 - CHA @ BKN        A  W            24   \n",
       "4       21400899  MAR 04, 2015 - CHA @ BKN        A  W            24   \n",
       "5       21400899  MAR 04, 2015 - CHA @ BKN        A  W            24   \n",
       "...          ...                       ...      ... ..           ...   \n",
       "128063  21400006  OCT 29, 2014 - BKN @ BOS        A  L           -16   \n",
       "128064  21400006  OCT 29, 2014 - BKN @ BOS        A  L           -16   \n",
       "128065  21400006  OCT 29, 2014 - BKN @ BOS        A  L           -16   \n",
       "128066  21400006  OCT 29, 2014 - BKN @ BOS        A  L           -16   \n",
       "128067  21400006  OCT 29, 2014 - BKN @ BOS        A  L           -16   \n",
       "\n",
       "        SHOT_NUMBER  SHOT_CLOCK  DRIBBLES  TOUCH_TIME  SHOT_DIST  PTS_TYPE  \\\n",
       "0                 1        10.8         2         1.9        7.7         2   \n",
       "1                 2         3.4         0         0.8       28.2         3   \n",
       "3                 4        10.3         2         1.9       17.2         2   \n",
       "4                 5        10.9         2         2.7        3.7         2   \n",
       "5                 6         9.1         2         4.4       18.4         2   \n",
       "...             ...         ...       ...         ...        ...       ...   \n",
       "128063            4        15.3         2         1.6        8.9         2   \n",
       "128064            5        18.3         5         6.2        8.7         2   \n",
       "128065            6        19.8         4         5.2        0.6         2   \n",
       "128066            7        23.0         2         4.2       16.9         2   \n",
       "128067            8         9.1         4         4.5       18.3         2   \n",
       "\n",
       "       SHOT_RESULT   CLOSEST_DEFENDER  CLOSEST_DEFENDER_PLAYER_ID  \\\n",
       "0             made     Anderson, Alan                      101187   \n",
       "1           missed  Bogdanovic, Bojan                      202711   \n",
       "3           missed      Brown, Markel                      203900   \n",
       "4           missed    Young, Thaddeus                      201152   \n",
       "5           missed    Williams, Deron                      101114   \n",
       "...            ...                ...                         ...   \n",
       "128063        made   Sullinger, Jared                      203096   \n",
       "128064      missed      Smart, Marcus                      203935   \n",
       "128065        made       Turner, Evan                      202323   \n",
       "128066        made   Thornton, Marcus                      201977   \n",
       "128067      missed     Bradley, Avery                      202340   \n",
       "\n",
       "        CLOSE_DEF_DIST  FGM  PTS    player_name  player_id  TOTAL_GAME_TIME  \n",
       "0                  1.3    1    2  brian roberts     203148             69.0  \n",
       "1                  6.1    0    0  brian roberts     203148             14.0  \n",
       "3                  3.4    0    0  brian roberts     203148           1427.0  \n",
       "4                  1.1    0    0  brian roberts     203148           1354.0  \n",
       "5                  2.6    0    0  brian roberts     203148           1215.0  \n",
       "...                ...  ...  ...            ...        ...              ...  \n",
       "128063             5.7    1    2   jarrett jack     101127           1025.0  \n",
       "128064             0.8    0    0   jarrett jack     101127           1552.0  \n",
       "128065             0.6    1    2   jarrett jack     101127           2848.0  \n",
       "128066             4.2    1    2   jarrett jack     101127           2830.0  \n",
       "128067             3.0    0    0   jarrett jack     101127           2317.0  \n",
       "\n",
       "[122502 rows x 20 columns]"
      ]
     },
     "execution_count": 14,
     "metadata": {},
     "output_type": "execute_result"
    }
   ],
   "source": [
    "print(shot_logs[['GAME_CLOCK','PERIOD']])\n",
    "shot_logs['TOTAL_GAME_TIME'] = shot_logs['GAME_CLOCK'] + (shot_logs['PERIOD'] - 1) * 12 * 60\n",
    "    \n",
    "shot_logs.loc[shot_logs.PERIOD>5, 'TOTAL_GAME_TIME'] =  shot_logs.loc[shot_logs.PERIOD>5, 'TOTAL_GAME_TIME'] - (shot_logs.loc[shot_logs.PERIOD>5, 'PERIOD'] - 5) * 7 * 60\n",
    "print(shot_logs[['GAME_CLOCK','PERIOD','TOTAL_GAME_TIME']])\n",
    "\n",
    "# budući da su atributi GAME_CLOCK i PERIOD sadržani u atributu TOTAL_GAME_TIME, oni nam više ne trebaju pa se brišu\n",
    "shot_logs.drop(columns=['GAME_CLOCK', 'PERIOD'])"
   ]
  },
  {
   "cell_type": "code",
   "execution_count": 15,
   "id": "c7b0bbfb",
   "metadata": {},
   "outputs": [
    {
     "data": {
      "image/png": "[encoded data removed]",
      "text/plain": [
       "<Figure size 720x360 with 1 Axes>"
      ]
     },
     "metadata": {},
     "output_type": "display_data"
    },
    {
     "data": {
      "image/png": "[encoded data removed]",
      "text/plain": [
       "<Figure size 720x360 with 1 Axes>"
      ]
     },
     "metadata": {},
     "output_type": "display_data"
    },
    {
     "data": {
      "image/png": "[encoded data removed]",
      "text/plain": [
       "<Figure size 720x360 with 1 Axes>"
      ]
     },
     "metadata": {},
     "output_type": "display_data"
    },
    {
     "data": {
      "image/png": "[encoded data removed]",
      "text/plain": [
       "<Figure size 720x360 with 1 Axes>"
      ]
     },
     "metadata": {},
     "output_type": "display_data"
    },
    {
     "data": {
      "image/png": "[encoded data removed]",
      "text/plain": [
       "<Figure size 720x360 with 1 Axes>"
      ]
     },
     "metadata": {},
     "output_type": "display_data"
    },
    {
     "data": {
      "image/png": "[encoded data removed]",
      "text/plain": [
       "<Figure size 720x360 with 1 Axes>"
      ]
     },
     "metadata": {},
     "output_type": "display_data"
    }
   ],
   "source": [
    "plt.figure(figsize=(10,5))\n",
    "plt.boxplot(shot_logs.FINAL_MARGIN, showfliers=False)\n",
    "plt.title('Box plot za FINAL_MARGIN')\n",
    "plt.figure(figsize=(10,5))\n",
    "\n",
    "plt.boxplot(shot_logs.TOTAL_GAME_TIME, showfliers=False)\n",
    "plt.title('Box plot za TOTAL_GAME_TIME')\n",
    "plt.figure(figsize=(10,5))\n",
    "\n",
    "plt.boxplot(shot_logs.SHOT_CLOCK, showfliers=False)\n",
    "plt.title('Box plot za SHOT_CLOCK')\n",
    "plt.figure(figsize=(10,5))\n",
    "\n",
    "plt.boxplot(shot_logs.TOUCH_TIME, showfliers=False)\n",
    "plt.title('Box plot za TOUCH_TIME')\n",
    "plt.figure(figsize=(10,5))\n",
    "\n",
    "plt.boxplot(shot_logs.SHOT_DIST, showfliers=False)\n",
    "plt.title('Box plot za SHOT_DIST')\n",
    "plt.figure(figsize=(10,5))\n",
    "\n",
    "\n",
    "numerical_features = ['FINAL_MARGIN', 'TOTAL_GAME_TIME','SHOT_CLOCK', 'TOUCH_TIME', 'SHOT_DIST']\n",
    "\n",
    "shot_logs.boxplot(column=numerical_features,figsize=(10,5))\n",
    "plt.title('Box plot za sve atribute zajedno')\n",
    "plt.show()"
   ]
  },
  {
   "cell_type": "markdown",
   "id": "7c9e7fe6",
   "metadata": {},
   "source": [
    "#### Normalizacija atributa\n",
    "Provest ću normalizaciju atributa kako bi bili na istoj skali i jednako vrijedni"
   ]
  },
  {
   "cell_type": "code",
   "execution_count": 16,
   "id": "a55ed5f0",
   "metadata": {},
   "outputs": [],
   "source": [
    "# Normalizacija\n",
    "shot_logs['FINAL_MARGIN'] = (shot_logs['FINAL_MARGIN']-shot_logs['FINAL_MARGIN'].min())/(shot_logs['FINAL_MARGIN'].max()-shot_logs['FINAL_MARGIN'].min())\n",
    "shot_logs['TOTAL_GAME_TIME'] = (shot_logs['TOTAL_GAME_TIME']-shot_logs['TOTAL_GAME_TIME'].min())/(shot_logs['TOTAL_GAME_TIME'].max()-shot_logs['TOTAL_GAME_TIME'].min())\n",
    "shot_logs['SHOT_CLOCK'] = (shot_logs['SHOT_CLOCK']-shot_logs['SHOT_CLOCK'].min())/(shot_logs['SHOT_CLOCK'].max()-shot_logs['SHOT_CLOCK'].min())\n",
    "shot_logs['TOUCH_TIME'] = (shot_logs['TOUCH_TIME']-shot_logs['TOUCH_TIME'].min())/(shot_logs['TOUCH_TIME'].max()-shot_logs['TOUCH_TIME'].min())\n",
    "shot_logs['SHOT_DIST'] = (shot_logs['SHOT_DIST']-shot_logs['SHOT_DIST'].min())/(shot_logs['SHOT_DIST'].max()-shot_logs['SHOT_DIST'].min())"
   ]
  },
  {
   "cell_type": "markdown",
   "id": "40fadc56",
   "metadata": {},
   "source": [
    "Pogledajmo sada box plot-ove za sve atribute."
   ]
  },
  {
   "cell_type": "code",
   "execution_count": 17,
   "id": "e0c42546",
   "metadata": {},
   "outputs": [
    {
     "data": {
      "image/png": "[encoded data removed]",
      "text/plain": [
       "<Figure size 720x360 with 1 Axes>"
      ]
     },
     "metadata": {},
     "output_type": "display_data"
    }
   ],
   "source": [
    "numerical_features = ['FINAL_MARGIN', 'TOTAL_GAME_TIME','SHOT_CLOCK', 'TOUCH_TIME', 'SHOT_DIST']\n",
    "\n",
    "shot_logs.boxplot(column=numerical_features,figsize=(10,5))\n",
    "plt.title('Box plot za sve atribute zajedno')\n",
    "plt.show()"
   ]
  },
  {
   "cell_type": "markdown",
   "id": "3f31dd29",
   "metadata": {},
   "source": [
    "### Korelacija numeričkih varijabli"
   ]
  },
  {
   "cell_type": "code",
   "execution_count": 18,
   "id": "4c93a803",
   "metadata": {},
   "outputs": [
    {
     "data": {
      "image/png": "[encoded data removed]",
      "text/plain": [
       "<Figure size 864x360 with 2 Axes>"
      ]
     },
     "metadata": {},
     "output_type": "display_data"
    }
   ],
   "source": [
    "shot_logs_numeric = shot_logs.loc[:,shot_logs.columns.isin(['FINAL_MARGIN', 'TOTAL_GAME_TIME','SHOT_CLOCK', 'TOUCH_TIME', 'SHOT_DIST'])]\n",
    "sns.set(rc={'figure.figsize':(12,5)})\n",
    "sns.heatmap(shot_logs_numeric.corr(), annot=True, fmt=\".2f\", cmap=\"YlGnBu\", linewidths=.5)\n",
    "plt.show()"
   ]
  },
  {
   "cell_type": "markdown",
   "id": "38dac2c7",
   "metadata": {},
   "source": [
    "Nema naznaka na jaču korelaciju."
   ]
  },
  {
   "cell_type": "markdown",
   "id": "c002d6d0",
   "metadata": {},
   "source": [
    "## Primjena raznih algoritama strojnog učenja"
   ]
  },
  {
   "cell_type": "markdown",
   "id": "d00eccd3",
   "metadata": {},
   "source": [
    "Pogledajmo prvo kakav je odnos između broja podataka za svaku klasu za koju se predviđa."
   ]
  },
  {
   "cell_type": "code",
   "execution_count": 19,
   "id": "25666381",
   "metadata": {},
   "outputs": [
    {
     "data": {
      "image/png": "[encoded data removed]",
      "text/plain": [
       "<Figure size 864x360 with 1 Axes>"
      ]
     },
     "metadata": {},
     "output_type": "display_data"
    }
   ],
   "source": [
    "sns.countplot(x='FGM', data=shot_logs)\n",
    "plt.show()"
   ]
  },
  {
   "cell_type": "markdown",
   "id": "2895942b",
   "metadata": {},
   "source": [
    "### Zavisnost pojedinih atributa s izlaznom varijablom\n"
   ]
  },
  {
   "cell_type": "code",
   "execution_count": 20,
   "id": "c92ce574",
   "metadata": {},
   "outputs": [
    {
     "data": {
      "image/png": "[encoded data removed]",
      "text/plain": [
       "<Figure size 864x360 with 1 Axes>"
      ]
     },
     "metadata": {},
     "output_type": "display_data"
    }
   ],
   "source": [
    "sns.countplot(x='FGM', hue='LOCATION', data=shot_logs)\n",
    "plt.show()"
   ]
  },
  {
   "cell_type": "markdown",
   "id": "aaee3dd6",
   "metadata": {},
   "source": [
    "grafovi prikazuju da je postotak pogođenog šuta bolji kad se igra na domaćem terenu, ali ta razlika nije velika."
   ]
  },
  {
   "cell_type": "code",
   "execution_count": 21,
   "id": "e22c3e94",
   "metadata": {},
   "outputs": [
    {
     "data": {
      "image/png": "[encoded data removed]",
      "text/plain": [
       "<Figure size 864x360 with 1 Axes>"
      ]
     },
     "metadata": {},
     "output_type": "display_data"
    }
   ],
   "source": [
    "sns.countplot(x='FGM', hue='PERIOD', data=shot_logs)\n",
    "plt.show()"
   ]
  },
  {
   "cell_type": "markdown",
   "id": "127a46fb",
   "metadata": {},
   "source": [
    "Grafovi prikazuju da je na ovom datasetu najmanji broj pogođenih šuteva u zadnjoj četvrtini, što može biti možda zbog većeg pritiska u toj četvrtini."
   ]
  },
  {
   "cell_type": "code",
   "execution_count": 22,
   "id": "956bd2fa",
   "metadata": {},
   "outputs": [
    {
     "data": {
      "image/png": "[encoded data removed]",
      "text/plain": [
       "<Figure size 864x360 with 1 Axes>"
      ]
     },
     "metadata": {},
     "output_type": "display_data"
    }
   ],
   "source": [
    "sns.countplot(x='FGM', hue='PTS_TYPE', data=shot_logs)\n",
    "plt.show()"
   ]
  },
  {
   "cell_type": "markdown",
   "id": "477ab173",
   "metadata": {},
   "source": [
    "Grafovi prikazuju da je omjer pogođenog koša/profulanog koša bliži 1:1 kod šuteva za 2 poena, nego za 3 jer je lakše pogoditi šut za dva poena zbog manje udaljenosti od koša."
   ]
  },
  {
   "cell_type": "markdown",
   "id": "bfa5ac2d",
   "metadata": {},
   "source": [
    "Za treniranje i predikciju ću koristiti sljedeće atribute:\n",
    "LOCATION, W, DRIBBLES, SHOT_RESULT, PTS_TYPE, SHOT_NUMBER, FINAL_MARGIN, SHOT_CLOCK, TOUCH_TIME, SHOT_DIST i TOTAL_GAME_TIME\n",
    "\n",
    "Kategorički su: LOCATION, W, DRIBBLES, SHOT_RESULT, PTS_TYPE i SHOT_NUMBER\n",
    "\n",
    "Numerički su: FINAL_MARGIN, SHOT_CLOCK, TOUCH_TIME, SHOT_DIST i TOTAL_GAME_TIME"
   ]
  },
  {
   "cell_type": "markdown",
   "id": "99f14718",
   "metadata": {},
   "source": [
    "#### Logistička regresija"
   ]
  },
  {
   "cell_type": "markdown",
   "id": "b49bf216",
   "metadata": {},
   "source": [
    "Kako bi se trenirao model logističke regresije, treba se prvo zamijeniti svi kategorički atributi s dummy vrijednostima."
   ]
  },
  {
   "cell_type": "code",
   "execution_count": 41,
   "id": "40f550e2",
   "metadata": {},
   "outputs": [],
   "source": [
    "LOCATION_data = pd.get_dummies(shot_logs['LOCATION'], drop_first = True)\n",
    "W_data = pd.get_dummies(shot_logs['W'], drop_first = True)\n",
    "PTS_TYPE_data = pd.get_dummies(shot_logs['PTS_TYPE'], drop_first = True)\n",
    "\n",
    "shot_logs_logReg = pd.concat([shot_logs, W_data, LOCATION_data, PTS_TYPE_data], axis = 1)\n",
    "\n",
    "shot_logs_logReg.drop(['LOCATION', 'W', 'SHOT_RESULT', 'PTS_TYPE','GAME_ID','MATCHUP','PERIOD','GAME_CLOCK','DRIBBLES','CLOSEST_DEFENDER_PLAYER_ID','player_id','CLOSEST_DEFENDER','player_name','PTS','SHOT_RESULT'], axis = 1, inplace = True)"
   ]
  },
  {
   "cell_type": "code",
   "execution_count": 48,
   "id": "d0ae6cd3",
   "metadata": {},
   "outputs": [
    {
     "name": "stdout",
     "output_type": "stream",
     "text": [
      "Atributi za učenje:\n",
      "Index([   'FINAL_MARGIN',     'SHOT_NUMBER',      'SHOT_CLOCK',\n",
      "            'TOUCH_TIME',       'SHOT_DIST',  'CLOSE_DEF_DIST',\n",
      "                   'FGM', 'TOTAL_GAME_TIME',               'H',\n",
      "                       3],\n",
      "      dtype='object')\n",
      "Confusion matrix:\n",
      "[[11973  4546]\n",
      " [ 7532  6575]]\n",
      "dodatne informacije o generalizaciji:\n",
      "              precision    recall  f1-score   support\n",
      "\n",
      "           0       0.61      0.72      0.66     16519\n",
      "           1       0.59      0.47      0.52     14107\n",
      "\n",
      "    accuracy                           0.61     30626\n",
      "   macro avg       0.60      0.60      0.59     30626\n",
      "weighted avg       0.60      0.61      0.60     30626\n",
      "\n"
     ]
    }
   ],
   "source": [
    "print(\"Atributi za učenje:\")\n",
    "print(shot_logs_logReg.columns)\n",
    "\n",
    "y_data = shot_logs_logReg['FGM']\n",
    "\n",
    "x_data = shot_logs_logReg.drop('FGM', axis = 1)\n",
    "# feature_cols = ['LOCATION', 'W', 'DRIBBLES', 'SHOT_RESULT','PTS_TYPE','SHOT_NUMBER','FINAL_MARGIN', 'TOTAL_GAME_TIME','SHOT_CLOCK', 'TOUCH_TIME', 'SHOT_DIST']\n",
    "# X = shot_logs[feature_cols] # Features\n",
    "# y = shot_logs.FGM # Target variable\n",
    "\n",
    "X_train,X_test,y_train,y_test=train_test_split(x_data,y_data,test_size=0.25,random_state=0)\n",
    "\n",
    "logreg = LogisticRegression(max_iter=1000000)\n",
    "\n",
    "logreg.fit(X_train,y_train)\n",
    "\n",
    "y_pred=logreg.predict(X_test)\n",
    "\n",
    "print(\"Confusion matrix:\")\n",
    "cnf_matrix = metrics.confusion_matrix(y_test, y_pred)\n",
    "print(cnf_matrix)\n",
    "\n",
    "print(\"Dodatne informacije o generalizaciji:\")\n",
    "print(classification_report(y_test, y_pred))"
   ]
  },
  {
   "cell_type": "markdown",
   "id": "1236fb63",
   "metadata": {},
   "source": [
    "Vidimo da je dobivena preciznost 61%(u članku je 59%)"
   ]
  },
  {
   "cell_type": "markdown",
   "id": "2519e056",
   "metadata": {},
   "source": [
    "### SVM"
   ]
  },
  {
   "cell_type": "code",
   "execution_count": 50,
   "id": "b7775fbb",
   "metadata": {},
   "outputs": [
    {
     "name": "stdout",
     "output_type": "stream",
     "text": [
      "Confusion matrix:\n",
      "[[10959  5560]\n",
      " [ 6896  7211]]\n",
      "Dodatne informacije o generalizaciji:\n",
      "              precision    recall  f1-score   support\n",
      "\n",
      "           0       0.61      0.66      0.64     16519\n",
      "           1       0.56      0.51      0.54     14107\n",
      "\n",
      "    accuracy                           0.59     30626\n",
      "   macro avg       0.59      0.59      0.59     30626\n",
      "weighted avg       0.59      0.59      0.59     30626\n",
      "\n"
     ]
    }
   ],
   "source": [
    "svclassifier = SVC(kernel='linear')\n",
    "svclassifier.fit(X_train, y_train)\n",
    "\n",
    "y_pred = svclassifier.predict(X_test)\n",
    "\n",
    "print(\"Confusion matrix:\")\n",
    "cnf_matrix = metrics.confusion_matrix(y_test, y_pred)\n",
    "print(cnf_matrix)\n",
    "\n",
    "print(\"Dodatne informacije o generalizaciji:\")\n",
    "print(classification_report(y_test, y_pred))"
   ]
  },
  {
   "cell_type": "markdown",
   "id": "0b8563b7",
   "metadata": {},
   "source": [
    "Vidimo da je dobivena preciznost 59%(u članku je 55%)"
   ]
  },
  {
   "cell_type": "markdown",
   "id": "9fb9b112",
   "metadata": {},
   "source": [
    "### Neuronska mreža"
   ]
  },
  {
   "cell_type": "markdown",
   "id": "2957ef27",
   "metadata": {},
   "source": [
    "Prvo ću trenirati neuronsku mrežu koja koristi sigmoidu kao aktivacijsku funkciju na svim slojevima. \n",
    "\n",
    "Karakteristike mreže - 50 neurona u skrivenom sloju, 1 skriveni sloj, 10 epoha"
   ]
  },
  {
   "cell_type": "code",
   "execution_count": 56,
   "id": "6b312902",
   "metadata": {},
   "outputs": [
    {
     "name": "stdout",
     "output_type": "stream",
     "text": [
      "Epoch 1/10\n",
      "91876/91876 [==============================] - 70s 762us/step - loss: 0.6822 - accuracy: 0.5626 59s - loss: 0.6944 - - ETA: 59s - loss: 0.6939 - accuracy:  - ETA: 58s - loss: 0.6936 - - ETA: 57s - loss: 0.6932 - accuracy: 0.537 - ETA: 57s - loss: 0.6932 - accura - ETA: 57s - loss: 0.6932 - E - ETA: 38s - loss: 0.6883 - accuracy: 0 - ETA: 38s - loss: 0.6884 - accurac - ETA: 37s - loss: 0.6883 - acc - ETA: 36s - loss:  - ETA: 25s - loss: 0.6857 - accur - ETA: 25s - loss: 0.6856 - ac - ETA: 24s - loss: 0 - ETA: 1s - loss: 0.682 - ETA: 0s - loss: 0.6822 - accuracy: 0. - ETA: 0s - loss: 0.6\n",
      "Epoch 2/10\n",
      "91876/91876 [==============================] - 72s 779us/step - loss: 0.6721 - accuracy: 0.5873 1:00 - loss: 0.6730 - accuracy - ETA: 1:00 - loss: 0 - ETA: 59s - loss: 0.6727 - accuracy: 0. - ETA: 59s - loss: - ETA: 59s - loss: 0.6733 - ac - ETA: 59s - l - ETA: 57s - - ETA: 54s - loss: 0.6726 - accur - ETA: 50s - loss: 0.6726 - accuracy: 0.587 - ET - ETA: - ETA: 40s - loss: 0.6733 - accuracy:  - ETA: 40s - loss: 0.673 - ETA: 39s - loss: 0. - ETA: 35s - loss: 0.6737 - accuracy: 0.58 - ETA: 35s - l - ETA: 31s - loss: 0.6738 - accuracy: 0 - ETA: 31s - loss: 0.6738 - - ETA: 30s - los - ETA: 29s - loss: 0.6737 - acc - ET - ETA: 12s - loss: 0.6723 - accuracy: 0.587 - ETA: 1\n",
      "Epoch 3/10\n",
      "91876/91876 [==============================] - 76s 831us/step - loss: 0.6688 - accuracy: 0.5941\n",
      "Epoch 4/10\n",
      "91876/91876 [==============================] - 76s 822us/step - loss: 0.6668 - accuracy: 0.5968s - loss: - ETA: 0s - loss: 0.6668 - accura - ETA: 0s - loss: 0.6668 - accu\n",
      "Epoch 5/10\n",
      "91876/91876 [==============================] - 73s 794us/step - loss: 0.6654 - accuracy: 0.5989\n",
      "Epoch 6/10\n",
      "91876/91876 [==============================] - 73s 792us/step - loss: 0.6642 - accuracy: 0.6006: 55s - loss: 0.6637 - accura  - E\n",
      "Epoch 7/10\n",
      "91876/91876 [==============================] - 72s 785us/step - loss: 0.6633 - accuracy: 0.6025 40s - loss: 0.6620 - accura - ETA: 40s - - ETA: 38s - loss: 0.66 - ETA: 37s - loss: 0.6623 - accura - ETA: 36s - loss: 0.6623 -  - ETA: 36s - lo - ETA: 18s - loss: 0.6635 - a - ETA: 17s - loss: 0.6636 - accura - ETA: 17s - loss: 0.6637 - accuracy: 0 - ETA: 16s - loss: 0.6636  - ETA: 15s - loss: 0.6634 - accuracy: 0. - ETA: 15s - loss: 0 -  - ETA: 12s\n",
      "Epoch 8/10\n",
      "91876/91876 [==============================] - 92s 999us/step - loss: 0.6624 - accuracy: 0.6048\n",
      "Epoch 9/10\n",
      "91876/91876 [==============================] - 82s 890us/step - loss: 0.6619 - accuracy: 0.6045\n",
      "Epoch 10/10\n",
      "91876/91876 [==============================] - 70s 757us/step - loss: 0.6618 - accuracy: 0.6046\n",
      "958/958 [==============================] - 1s 723us/step - loss: 0.6596 - accuracy: 0.6011\n",
      "[0.6596195697784424, 0.6011232137680054]\n"
     ]
    }
   ],
   "source": [
    "model = Sequential()\n",
    "\n",
    "model.add(Dense(50, activation='sigmoid', input_shape=(9,)))\n",
    "\n",
    "model.add(Dense(1, activation='sigmoid'))\n",
    "\n",
    "\n",
    "model.compile(loss='binary_crossentropy',\n",
    "              optimizer='sgd',\n",
    "              metrics=['accuracy'])\n",
    "                   \n",
    "model.fit(X_train, y_train,epochs=10, batch_size=1, verbose=1)\n",
    "\n",
    "y_pred = model.predict(X_test)\n",
    "\n",
    "score = model.evaluate(X_test, y_test,verbose=1)\n",
    "\n",
    "print(score)"
   ]
  },
  {
   "cell_type": "markdown",
   "id": "8f520aaa",
   "metadata": {},
   "source": [
    "Vidimo da je dobivena preciznost 60%(u članku je 55%)"
   ]
  },
  {
   "cell_type": "markdown",
   "id": "2b91f29b",
   "metadata": {},
   "source": [
    "Zatim ću trenirati neuronsku mrežu koja koristi relu kao aktivacijsku funkciju na skrivenom sloju i sigmoid aktivacijsku funkciju na izlaznom sloju.\n",
    "\n",
    "Karakteristike mreže - 50 neurona u skrivenom sloju, 1 skriveni sloj, 10 epoha"
   ]
  },
  {
   "cell_type": "code",
   "execution_count": 55,
   "id": "8c0ecd9a",
   "metadata": {},
   "outputs": [
    {
     "name": "stdout",
     "output_type": "stream",
     "text": [
      "Epoch 1/10\n",
      "91876/91876 [==============================] - 67s 727us/step - loss: 0.6831 - accuracy: 0.5613s - loss: 0.6833 - accuracy - ETA: 0s -\n",
      "Epoch 2/10\n",
      "91876/91876 [==============================] - 71s 767us/step - loss: 0.6744 - accuracy: 0.5849TA: 5s - loss: 0.6747 - accuracy - ETA: 5s - loss: 0.6747 - accuracy:  - - ETA: 1s - loss: 0 - ETA: 1s - loss: 0.6744  - ETA: 0s - loss: 0.6 - ETA: 0s - loss: 0.6\n",
      "Epoch 3/10\n",
      "91876/91876 [==============================] - 80s 866us/step - loss: 0.6706 - accuracy: 0.5931 1:02 - loss: 0.6714 - accuracy: 0.58 - ETA: 1:02 - los - ETA: 1:01 - loss: 0.6715 -  - ETA: 1:00 - loss: 0.6717 - accuracy: 0.58 - ETA: 1:00 - lo - ETA: 59s - loss:  - ETA: 57s - loss:  - ETA: 55s - loss: 0.6721 - accuracy - ETA: 55s - loss: 0.6722 -  - ETA: 0s - loss: 0.6707 - accuracy: 0. - ETA: 0s - loss: 0.6706 - accura\n",
      "Epoch 4/10\n",
      "91876/91876 [==============================] - 75s 819us/step - loss: 0.6689 - accuracy: 0.5982s - loss: 0 - ETA: 0s - loss: 0\n",
      "Epoch 5/10\n",
      "91876/91876 [==============================] - 69s 752us/step - loss: 0.6674 - accuracy: 0.5988 1:08 - loss: 0.6724 - ac - E - ETA: 1:01 - loss: - ETA - ETA: 58s - loss: 0.6694 - accuracy: - ETA: 58 - ETA: 56s -  - ETA: 52s - loss: 0.6689 - accuracy:  - ETA: 52s - loss: 0.6689 - accu - ETA: 51s - loss: 0.6689 - ac - ETA: 50s - loss: 0.66 - ETA: 49s - loss: 0.6681 - accuracy - E - ETA: 45s  - ETA: 43s - loss: 0.6665 - ac -  - ETA: 40s - loss: 0.6667 - accuracy: - ETA: 40s - loss: 0.6669 - ETA: 39s - loss: - ETA: 38s - loss: 0.6670 - accur - ETA: 37s - loss: 0.6672 - accuracy: 0. - ETA: 37s - loss:  - ETA: 35s - loss: 0.6670 - accuracy: 0.5 - ETA: 35s - loss: 0.6671 - acc - ETA: 35s - loss: 0.6671 - ETA: 34s - loss: 0.6669 - accura - ETA: 33s - loss: 0. - ETA: 25s - loss: 0.6668 - accura - ETA: 25s - loss: 0.6667 - accura - ETA: 24s - loss: 0.6667 - accurac - ETA: 2 - ETA: 22s - loss: 0.6667 - accuracy: 0.6 - ETA: 22s - loss: 0.6668 - accuracy: 0 - ETA: 21s - loss: 0.6669 - accurac - ETA: 21s - loss: 0.6670 - acc - ETA: 20s - loss: 0.6672 -  - ETA: 19s - l - ETA: 18s - ETA: 1 - ETA: 14s - loss: 0. - ETA: 13s - loss: 0.6673 - accu - ETA: 13s - loss: 0.6673 - - ETA: 6s - loss: - ETA: 5s - loss: 0.6675 - accura - ETA: 4s - loss: 0.6675 - accuracy - ETA: 4s - loss: 0.667 - ETA: 3s - loss: 0.6675  - - ETA: 0s - loss: 0.6674 - accuracy: 0.59 - ETA: 0s - loss: 0.6674 - accuracy\n",
      "Epoch 6/10\n",
      "91876/91876 [==============================] - 71s 773us/step - loss: 0.6663 - accuracy: 0.6008\n",
      "Epoch 7/10\n",
      "91876/91876 [==============================] - 73s 792us/step - loss: 0.6652 - accuracy: 0.6029\n",
      "Epoch 8/10\n",
      "91876/91876 [==============================] - 72s 788us/step - loss: 0.6651 - accuracy: 0.6049\n",
      "Epoch 9/10\n",
      "91876/91876 [==============================] - 73s 798us/step - loss: 0.6640 - accuracy: 0.6036 1:02 - loss: 0 - ETA: 1:02 - los - ETA: 1:01 - loss: - ETA: 1:00 - l\n",
      "Epoch 10/10\n",
      "91876/91876 [==============================] - 73s 790us/step - loss: 0.6640 - accuracy: 0.6053\n",
      "958/958 [==============================] - 1s 781us/step - loss: 0.6600 - accuracy: 0.6071\n",
      "[0.6599808931350708, 0.6070985198020935]\n"
     ]
    }
   ],
   "source": [
    "model = Sequential()\n",
    "\n",
    "model.add(Dense(50, activation='relu', input_shape=(9,)))\n",
    "\n",
    "model.add(Dense(1, activation='sigmoid'))\n",
    "\n",
    "\n",
    "model.compile(loss='binary_crossentropy',\n",
    "              optimizer='sgd',\n",
    "              metrics=['accuracy'])\n",
    "                   \n",
    "model.fit(X_train, y_train,epochs=10, batch_size=1, verbose=1)\n",
    "\n",
    "y_pred = model.predict(X_test)\n",
    "\n",
    "score = model.evaluate(X_test, y_test,verbose=1)\n",
    "\n",
    "print(score)\n"
   ]
  },
  {
   "cell_type": "markdown",
   "id": "91925b42",
   "metadata": {},
   "source": [
    "Vidimo da je dobivena preciznost 60%(u članku je 55%)"
   ]
  },
  {
   "cell_type": "markdown",
   "id": "58eed3fc",
   "metadata": {},
   "source": [
    "### Naivni Bayesov klasifikator"
   ]
  },
  {
   "cell_type": "code",
   "execution_count": null,
   "id": "0c16ecaf",
   "metadata": {},
   "outputs": [],
   "source": []
  }
 ],
 "metadata": {
  "kernelspec": {
   "display_name": "Python 3 (ipykernel)",
   "language": "python",
   "name": "python3"
  },
  "language_info": {
   "codemirror_mode": {
    "name": "ipython",
    "version": 3
   },
   "file_extension": ".py",
   "mimetype": "text/x-python",
   "name": "python",
   "nbconvert_exporter": "python",
   "pygments_lexer": "ipython3",
   "version": "3.9.7"
  }
 },
 "nbformat": 4,
 "nbformat_minor": 5
}
